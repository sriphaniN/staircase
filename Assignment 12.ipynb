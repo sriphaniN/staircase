{
 "cells": [
  {
   "cell_type": "code",
   "execution_count": null,
   "id": "43368adc",
   "metadata": {},
   "outputs": [],
   "source": [
    "\"\"\" \n",
    "1. In what modes should the PdfFileReader() and PdfFileWriter() File objects will be opened?\n",
    "   PdfFileReader() - read mode (rb)\n",
    "   PdfFileWriter() - write mode (wb)\n",
    "   \n",
    "   \n",
    "2. From a PdfFileReader object, how do you get a Page object for page 5?\n",
    "    by getpage(4).\n",
    "    \n",
    "    \n",
    "3. What PdfFileReader variable stores the number of pages in the PDF document?\n",
    "\n",
    "4. If a PdfFileReader object’s PDF is encrypted with the password swordfish, what must you do before you can obtain Page objects from it?\n",
    "    we have to decrypt by using \".decrypt('swordfish')\".\n",
    "    \n",
    "    \n",
    "5. What methods do you use to rotate a page?\n",
    "   rotateClockwise() \n",
    "   rotateCounterClockwise()\n",
    "   \n",
    "   \n",
    "6. What is the difference between a Run object and a Paragraph object?\n",
    "    Run object - a group of words with in the para with same style.\n",
    "    Paragraph object - contain a new line and have many runs.\n",
    "    \n",
    "    \n",
    "7. How do you obtain a list of Paragraph objects for a Document object that’s stored in a variable named doc?\n",
    "   by using doc.paragraphs\n",
    "\n",
    "\n",
    "8. What type of object has bold, underline, italic, strike, and outline variables?\n",
    "   a run object.\n",
    "\n",
    "\n",
    "9. What is the difference between False, True, and None for the bold variable?\n",
    "   True - always enabled.\n",
    "   False - always disabled.\n",
    "   None - default to whatever run we use.\n",
    "   \n",
    "\n",
    "10. How do you create a Document object for a new Word document?\n",
    "    docx.Document() \n",
    "\n",
    "\n",
    "11. How do you add a paragraph with the text 'Hello, there!' to a Document object stored in a variable named doc?\n",
    "    \n",
    "12. What integers represent the levels of headings available in Word documents?\n",
    "     integers from 0 to 4.\n",
    "  \n",
    "  \n",
    "\"\"\""
   ]
  },
  {
   "cell_type": "code",
   "execution_count": 1,
   "id": "9868b738",
   "metadata": {},
   "outputs": [
    {
     "name": "stdout",
     "output_type": "stream",
     "text": [
      "Collecting PyPDF2\n",
      "  Downloading PyPDF2-1.27.12-py3-none-any.whl (80 kB)\n",
      "Installing collected packages: PyPDF2\n",
      "Successfully installed PyPDF2-1.27.12\n"
     ]
    },
    {
     "name": "stderr",
     "output_type": "stream",
     "text": [
      "WARNING: Retrying (Retry(total=4, connect=None, read=None, redirect=None, status=None)) after connection broken by 'ReadTimeoutError(\"HTTPSConnectionPool(host='pypi.org', port=443): Read timed out. (read timeout=15)\")': /simple/pypdf2/\n"
     ]
    }
   ],
   "source": [
    "!pip install PyPDF2"
   ]
  },
  {
   "cell_type": "code",
   "execution_count": null,
   "id": "20c63c0f",
   "metadata": {},
   "outputs": [],
   "source": [
    "#3.\n",
    "import PyPDF2 as pdf\n",
    "x = open(\"assignment.pdf\",'rb')\n",
    "pdfReader = pdf.PdfFileReader(x)\n",
    "pdfReader.numPages"
   ]
  },
  {
   "cell_type": "code",
   "execution_count": null,
   "id": "13f1cfaa",
   "metadata": {},
   "outputs": [],
   "source": [
    "#11.\n",
    "import docx\n",
    "doc = docx.Document()\n",
    "doc.add_paragraph('Hello there!')\n",
    "doc.save('hellothere.docx')"
   ]
  }
 ],
 "metadata": {
  "kernelspec": {
   "display_name": "Python 3",
   "language": "python",
   "name": "python3"
  },
  "language_info": {
   "codemirror_mode": {
    "name": "ipython",
    "version": 3
   },
   "file_extension": ".py",
   "mimetype": "text/x-python",
   "name": "python",
   "nbconvert_exporter": "python",
   "pygments_lexer": "ipython3",
   "version": "3.8.8"
  }
 },
 "nbformat": 4,
 "nbformat_minor": 5
}
