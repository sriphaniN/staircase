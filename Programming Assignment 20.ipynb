{
 "cells": [
  {
   "cell_type": "code",
   "execution_count": null,
   "id": "673de632",
   "metadata": {},
   "outputs": [],
   "source": [
    "Question1\n",
    "Create a function that takes a list of strings and integers, and filters out the list so that it\n",
    "returns a list of integers only.\n",
    "Examples\n",
    "filter_list([1, 2, 3, 'a', 'b', 4]) ➞ [1, 2, 3, 4]\n",
    "filter_list(['A', 0, 'Edabit', 1729, 'Python', '1729']) ➞ [0, 1729]\n",
    "filter_list(['Nothing', 'here']) ➞ []"
   ]
  },
  {
   "cell_type": "code",
   "execution_count": 14,
   "id": "b7212abe",
   "metadata": {},
   "outputs": [
    {
     "name": "stdout",
     "output_type": "stream",
     "text": [
      "[0, 1729]\n"
     ]
    }
   ],
   "source": [
    "li = [1, 2, 3, 'a', 'b', 4]\n",
    "def filter_list(li):\n",
    "    intLi = []\n",
    "    for i in li:\n",
    "        if type(i) == int:\n",
    "            intLi.append(i)\n",
    "    return intLi\n",
    "print(filter_list(['A', 0, 'Edabit', 1729, 'Python', '1729']))"
   ]
  },
  {
   "cell_type": "code",
   "execution_count": null,
   "id": "f988c87b",
   "metadata": {},
   "outputs": [],
   "source": [
    "Question2\n",
    "Given a list of numbers, create a function which returns the list but with each element's\n",
    "index in the list added to itself. This means you add 0 to the number at index 0, add 1 to the\n",
    "number at index 1, etc...\n",
    "Examples\n",
    "add_indexes([0, 0, 0, 0, 0]) ➞ [0, 1, 2, 3, 4]\n",
    "add_indexes([1, 2, 3, 4, 5]) ➞ [1, 3, 5, 7, 9]\n",
    "add_indexes([5, 4, 3, 2, 1]) ➞ [5, 5, 5, 5, 5]"
   ]
  },
  {
   "cell_type": "code",
   "execution_count": 16,
   "id": "1f6d7b9e",
   "metadata": {},
   "outputs": [
    {
     "name": "stdout",
     "output_type": "stream",
     "text": [
      "[5, 5, 5, 5, 5]\n"
     ]
    }
   ],
   "source": [
    "def add_indexes(li):\n",
    "    ind = 0\n",
    "    index = []\n",
    "    for i in li:\n",
    "        index.append(li.index(i,ind) + i)\n",
    "        ind+=1\n",
    "    return index\n",
    "print(add_indexes([5, 4, 3, 2, 1]))"
   ]
  },
  {
   "cell_type": "code",
   "execution_count": null,
   "id": "bec4cc2d",
   "metadata": {},
   "outputs": [],
   "source": [
    "Question3\n",
    "Create a function that takes the height and radius of a cone as arguments and returns the\n",
    "volume of the cone rounded to the nearest hundredth. See the resources tab for the formula.\n",
    "\n",
    "Examples\n",
    "cone_volume(3, 2) ➞ 12.57\n",
    "\n",
    "cone_volume(15, 6) ➞ 565.49\n",
    "cone_volume(18, 0) ➞ 0"
   ]
  },
  {
   "cell_type": "code",
   "execution_count": 18,
   "id": "9633751d",
   "metadata": {},
   "outputs": [
    {
     "name": "stdout",
     "output_type": "stream",
     "text": [
      "19\n"
     ]
    }
   ],
   "source": [
    "import math\n",
    "pi = math.pi\n",
    "def cone_volume(r, h):\n",
    "    return round((1 / 3) * pi * r * r * h)\n",
    "\n",
    "print( cone_volume(3, 2) )"
   ]
  },
  {
   "cell_type": "code",
   "execution_count": null,
   "id": "0bc309c6",
   "metadata": {},
   "outputs": [],
   "source": [
    "Question4\n",
    "This Triangular Number Sequence is generated from a pattern of dots that form a triangle.\n",
    "The first 5 numbers of the sequence, or dots, are:\n",
    "1, 3, 6, 10, 15\n",
    "This means that the first triangle has just one dot, the second one has three dots, the third one\n",
    "has 6 dots and so on.\n",
    "Write a function that gives the number of dots with its corresponding triangle number of the\n",
    "sequence.\n",
    "Examples\n",
    "triangle(1) ➞ 1\n",
    "triangle(6) ➞ 21\n",
    "triangle(215) ➞ 23220"
   ]
  },
  {
   "cell_type": "code",
   "execution_count": 20,
   "id": "dd59a631",
   "metadata": {},
   "outputs": [
    {
     "name": "stdout",
     "output_type": "stream",
     "text": [
      "21\n"
     ]
    }
   ],
   "source": [
    "def triangle(n):\n",
    "    return n*(n+1)*0.5\n",
    "\n",
    "print(int(triangle(6)))"
   ]
  },
  {
   "cell_type": "code",
   "execution_count": null,
   "id": "356ced96",
   "metadata": {},
   "outputs": [],
   "source": [
    "Question5\n",
    "Create a function that takes a list of numbers between 1 and 10 (excluding one number) and\n",
    "returns the missing number.\n",
    "Examples\n",
    "missing_num([1, 2, 3, 4, 6, 7, 8, 9, 10]) ➞ 5\n",
    "missing_num([7, 2, 3, 6, 5, 9, 1, 4, 8]) ➞ 10\n",
    "missing_num([10, 5, 1, 2, 4, 6, 8, 3, 9]) ➞ 7"
   ]
  },
  {
   "cell_type": "code",
   "execution_count": 21,
   "id": "f64eb278",
   "metadata": {},
   "outputs": [
    {
     "name": "stdout",
     "output_type": "stream",
     "text": [
      "5\n"
     ]
    }
   ],
   "source": [
    "def missing_num(li):\n",
    "    total = sum([x for x in range(11)])\n",
    "    sums = sum(li)\n",
    "    return total - sums\n",
    "\n",
    "print(missing_num([1, 2, 3, 4, 6, 7, 8, 9, 10]))\n",
    "    "
   ]
  },
  {
   "cell_type": "code",
   "execution_count": null,
   "id": "e9fa979a",
   "metadata": {},
   "outputs": [],
   "source": []
  },
  {
   "cell_type": "code",
   "execution_count": null,
   "id": "f8c545a6",
   "metadata": {},
   "outputs": [],
   "source": []
  }
 ],
 "metadata": {
  "kernelspec": {
   "display_name": "Python 3",
   "language": "python",
   "name": "python3"
  },
  "language_info": {
   "codemirror_mode": {
    "name": "ipython",
    "version": 3
   },
   "file_extension": ".py",
   "mimetype": "text/x-python",
   "name": "python",
   "nbconvert_exporter": "python",
   "pygments_lexer": "ipython3",
   "version": "3.8.8"
  }
 },
 "nbformat": 4,
 "nbformat_minor": 5
}
