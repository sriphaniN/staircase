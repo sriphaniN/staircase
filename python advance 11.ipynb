{
 "cells": [
  {
   "cell_type": "code",
   "execution_count": null,
   "id": "96895060",
   "metadata": {},
   "outputs": [],
   "source": [
    "\"\"\"Q1. What is the concept of a metaclass?\n",
    "A metaclass in Python is a class of a class that defines how a class behaves.\n",
    "A class is itself an instance of a metaclass\n",
    "\n",
    "\n",
    "Q2. What is the best way to declare a class's metaclass?\n",
    "by passing the metaclass keyword in the class definition. \n",
    "This can also be done by inheriting a class that has already passed in this keyword. \n",
    "\n",
    "\n",
    "Q3. How do class decorators overlap with metaclasses for handling classes?\n",
    "555\n",
    "The decorator approach\n",
    "Syntax differs from ordinary class statement.\n",
    "Awkward if class decorators are not available.\n",
    "As is, the name is not picked up.\n",
    "Easier to construct Bunch classes dynamically.\n",
    "The Point class is an instance of type.\n",
    "\n",
    "The __metaclass__ approach\n",
    "Syntax the same as ordinary class statement.\n",
    "‘Magic’ takes place behind the scenes.\n",
    "Requires more knowledge to implement.\n",
    "Awkward to construct Bunch classes dynamically.\n",
    "The Point class is an instance of MetaBunch.\n",
    "\n",
    "\n",
    "\n",
    "Q4. How do class decorators overlap with metaclasses for handling instances?\n",
    "same answer as the above.\n",
    "\"\"\""
   ]
  }
 ],
 "metadata": {
  "kernelspec": {
   "display_name": "Python 3",
   "language": "python",
   "name": "python3"
  },
  "language_info": {
   "codemirror_mode": {
    "name": "ipython",
    "version": 3
   },
   "file_extension": ".py",
   "mimetype": "text/x-python",
   "name": "python",
   "nbconvert_exporter": "python",
   "pygments_lexer": "ipython3",
   "version": "3.8.8"
  }
 },
 "nbformat": 4,
 "nbformat_minor": 5
}
