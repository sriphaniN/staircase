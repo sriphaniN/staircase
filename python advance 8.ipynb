{
 "cells": [
  {
   "cell_type": "code",
   "execution_count": null,
   "id": "8449faa5",
   "metadata": {},
   "outputs": [],
   "source": [
    "\"\"\"Q1. What are the two latest user-defined exception constraints in Python 3.X?\n",
    "class BaseError(Exception):\n",
    "  pass  \n",
    "class HighValueError(BaseError):\n",
    "  pass  \n",
    "\n",
    "\n",
    "\n",
    "Q2. How are class-based exceptions that have been raised matched to handlers?\n",
    "This class is responsible for creating a string representation of the exception using str() using the arguments passed\n",
    "\n",
    "\n",
    "\n",
    "Q3. Describe two methods for attaching context information to exception artefacts.\n",
    " the __cause__ attribute for explicitly chained exceptions,\n",
    " and the __traceback__ attribute for the traceback\n",
    "\n",
    "\n",
    "\n",
    "Q4. Describe two methods for specifying the text of an exception object's error message.\n",
    "ZeroDivisionError: division by zero\n",
    "SyntaxError: invalid syntax\n",
    "\n",
    "\n",
    "\n",
    "Q5. Why do you no longer use string-based exceptions?\n",
    "Exceptions no longer behave as sequences. Use the args attribute instead.\n",
    "\n",
    "\n",
    "\"\"\""
   ]
  }
 ],
 "metadata": {
  "kernelspec": {
   "display_name": "Python 3",
   "language": "python",
   "name": "python3"
  },
  "language_info": {
   "codemirror_mode": {
    "name": "ipython",
    "version": 3
   },
   "file_extension": ".py",
   "mimetype": "text/x-python",
   "name": "python",
   "nbconvert_exporter": "python",
   "pygments_lexer": "ipython3",
   "version": "3.8.8"
  }
 },
 "nbformat": 4,
 "nbformat_minor": 5
}
