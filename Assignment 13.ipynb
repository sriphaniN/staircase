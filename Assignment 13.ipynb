{
 "cells": [
  {
   "cell_type": "code",
   "execution_count": null,
   "id": "7efce51d",
   "metadata": {},
   "outputs": [],
   "source": [
    "\"\"\" \n",
    "1. What advantages do Excel spreadsheets have over CSV spreadsheets?\n",
    "   It is a binary file that holds information about all the worksheets in a workbook.\n",
    "   It is easier for the end user to read large files.\n",
    "   It also provides the user option for external linking of data from other sources and also the user can do custom add-ins.\n",
    "   \n",
    "   \n",
    "2. What do you pass to csv.reader() and csv.writer() to create reader and writer objects?\n",
    "   with open('abc.csv', 'r') as file: for csv.reader()\n",
    "   with open('abc.csv', 'w', newline='') as file: for csv.write()\n",
    "   \n",
    "   \n",
    "3. What modes do File objects for reader and writer objects need to be opened in?\n",
    "   r+ and w+\n",
    "   \n",
    "   \n",
    "4. What method takes a list argument and writes it to a CSV file?\n",
    "   \n",
    "5. What do the keyword arguments delimiter and line terminator do?\n",
    "6. What function takes a string of JSON data and returns a Python data structure?\n",
    "7. What function takes a Python data structure and returns a string of JSON data?\n",
    "\n",
    "\"\"\""
   ]
  },
  {
   "cell_type": "code",
   "execution_count": null,
   "id": "b9ec8cfe",
   "metadata": {},
   "outputs": [],
   "source": []
  }
 ],
 "metadata": {
  "kernelspec": {
   "display_name": "Python 3",
   "language": "python",
   "name": "python3"
  },
  "language_info": {
   "codemirror_mode": {
    "name": "ipython",
    "version": 3
   },
   "file_extension": ".py",
   "mimetype": "text/x-python",
   "name": "python",
   "nbconvert_exporter": "python",
   "pygments_lexer": "ipython3",
   "version": "3.8.8"
  }
 },
 "nbformat": 4,
 "nbformat_minor": 5
}
