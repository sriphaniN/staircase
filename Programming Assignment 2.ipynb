{
 "cells": [
  {
   "cell_type": "code",
   "execution_count": null,
   "id": "1d9da917",
   "metadata": {},
   "outputs": [],
   "source": [
    "\"\"\" 1.Write a Python program to convert kilometers to miles?\n",
    "2.Write a Python program to convert Celsius to Fahrenheit?\n",
    "3.Write a Python program to display calendar?\n",
    "4.Write a Python program to solve quadratic equation?\n",
    "5.Write a Python program to swap two variables without temp variable?\n",
    "\"\"\""
   ]
  },
  {
   "cell_type": "code",
   "execution_count": 2,
   "id": "82d375f3",
   "metadata": {},
   "outputs": [
    {
     "name": "stdout",
     "output_type": "stream",
     "text": [
      "enter the distance in kilometer: 86\n",
      "distance travelled in miles:  53.437906\n"
     ]
    }
   ],
   "source": [
    "#1.\n",
    "kilometer = float(input(\"enter the distance in kilometer: \"))\n",
    "miles = (0.621371)* kilometer\n",
    "print('distance travelled in miles: ',miles)"
   ]
  },
  {
   "cell_type": "code",
   "execution_count": 4,
   "id": "aa28a8bb",
   "metadata": {},
   "outputs": [
    {
     "name": "stdout",
     "output_type": "stream",
     "text": [
      "enter temp in celsius: 34\n",
      "temp in fahrenheit:  93.2\n"
     ]
    }
   ],
   "source": [
    "#2.\n",
    "celsius = float(input(\"enter temp in celsius: \"))\n",
    "fahrenheit = (celsius * 9/5) + 32\n",
    "print(\"temp in fahrenheit: \",fahrenheit)"
   ]
  },
  {
   "cell_type": "code",
   "execution_count": 9,
   "id": "c2cf690f",
   "metadata": {},
   "outputs": [
    {
     "name": "stdout",
     "output_type": "stream",
     "text": [
      "      May 2022\n",
      "Mo Tu We Th Fr Sa Su\n",
      "                   1\n",
      " 2  3  4  5  6  7  8\n",
      " 9 10 11 12 13 14 15\n",
      "16 17 18 19 20 21 22\n",
      "23 24 25 26 27 28 29\n",
      "30 31\n",
      "\n"
     ]
    }
   ],
   "source": [
    "#3.\n",
    "import calendar \n",
    "print(calendar.month(2022,0o5))"
   ]
  },
  {
   "cell_type": "code",
   "execution_count": 11,
   "id": "89004549",
   "metadata": {},
   "outputs": [
    {
     "name": "stdout",
     "output_type": "stream",
     "text": [
      "Enter the value of a: 10\n",
      "Enter the value of b: 28\n",
      "Enter the value of c: 63\n",
      "The roots are: \n",
      "(-1.4-2.083266665599966j)\n",
      "(-1.4+2.083266665599966j)\n"
     ]
    }
   ],
   "source": [
    "#4.Quadratic Equation is of form ax2 + bx+ c\n",
    "import cmath\n",
    " \n",
    "a = int(input(\"Enter the value of a: \"))\n",
    "b = int(input(\"Enter the value of b: \"))\n",
    "c = int(input(\"Enter the value of c: \"))\n",
    "  \n",
    "D = (b**2) - (4*a*c) #Discriminat value\n",
    "\n",
    "root1 = (-b - cmath.sqrt(D))/(2 * a)\n",
    "root2 = (-b + cmath.sqrt(D))/(2 * a)\n",
    "  \n",
    "print(\"The roots are: \")\n",
    "print(root1)\n",
    "print(root2)"
   ]
  },
  {
   "cell_type": "code",
   "execution_count": 12,
   "id": "ded54cf6",
   "metadata": {},
   "outputs": [
    {
     "name": "stdout",
     "output_type": "stream",
     "text": [
      "20 10\n"
     ]
    }
   ],
   "source": [
    "#5.\n",
    "a = 10\n",
    "b = 20\n",
    "a,b = b,a \n",
    "print(a,b)"
   ]
  },
  {
   "cell_type": "code",
   "execution_count": null,
   "id": "71d21e4a",
   "metadata": {},
   "outputs": [],
   "source": []
  }
 ],
 "metadata": {
  "kernelspec": {
   "display_name": "Python 3",
   "language": "python",
   "name": "python3"
  },
  "language_info": {
   "codemirror_mode": {
    "name": "ipython",
    "version": 3
   },
   "file_extension": ".py",
   "mimetype": "text/x-python",
   "name": "python",
   "nbconvert_exporter": "python",
   "pygments_lexer": "ipython3",
   "version": "3.8.8"
  }
 },
 "nbformat": 4,
 "nbformat_minor": 5
}
