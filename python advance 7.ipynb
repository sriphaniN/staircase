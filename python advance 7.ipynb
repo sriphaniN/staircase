{
 "cells": [
  {
   "cell_type": "code",
   "execution_count": null,
   "id": "2b599892",
   "metadata": {},
   "outputs": [],
   "source": [
    "\"\"\"Q1. What is the purpose of the try statement?\n",
    "is used to catch and handle exceptions\n",
    "\n",
    "\n",
    "Q2. What are the two most popular try statement variations?\n",
    "Syntax errors and Exceptions.\n",
    "\n",
    "\n",
    "Q3. What is the purpose of the raise statement?\n",
    "You can define what kind of error to raise, and the text to print to the user.\n",
    "\n",
    "\n",
    "Q4. What does the assert statement do, and what other statement is it like?\n",
    "assert statement has a condition and if the condition is not satisfied the program will stop and give AssertionError\n",
    "\n",
    "\n",
    "Q5. What is the purpose of the with/as argument, and what other statement is it like?\n",
    "used in exception handling to make the code cleaner and much more readable. \n",
    "used when working with unmanaged resources (like file streams).\n",
    "It allows you to ensure that a resource is \"cleaned up\" when the code that uses it finishes running, \n",
    "even if exceptions are thrown.\n",
    "\"\"\""
   ]
  }
 ],
 "metadata": {
  "kernelspec": {
   "display_name": "Python 3",
   "language": "python",
   "name": "python3"
  },
  "language_info": {
   "codemirror_mode": {
    "name": "ipython",
    "version": 3
   },
   "file_extension": ".py",
   "mimetype": "text/x-python",
   "name": "python",
   "nbconvert_exporter": "python",
   "pygments_lexer": "ipython3",
   "version": "3.8.8"
  }
 },
 "nbformat": 4,
 "nbformat_minor": 5
}
