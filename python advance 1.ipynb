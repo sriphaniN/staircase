{
 "cells": [
  {
   "cell_type": "code",
   "execution_count": null,
   "id": "f0839356",
   "metadata": {},
   "outputs": [],
   "source": [
    "\"\"\"Q1. What is the purpose of Python's OOP?\n",
    "\n",
    "OOPs uses objects and classes in programming.\n",
    "It aims to implement real-world entities like inheritance, polymorphisms, encapsulation, etc. in the programming. \n",
    "The main concept of OOPs is to bind the data and the functions that work on that together as a single unit\n",
    "so that no other part of the code can access this data. \n",
    "\n",
    "\n",
    "\n",
    "Q2. Where does an inheritance search look for an attribute?\n",
    "An inheritance search looks for an attribute first in the instance object,\n",
    "then in the class the instance was created from, then in all higher superclasses,\n",
    "progressing from left to right (by default).\n",
    "The search stops at the first place the attribute is found.\n",
    "\n",
    "\n",
    "\n",
    "Q3. How do you distinguish between a class object and an instance object?\n",
    "Classes are used for creating multiple instances.\n",
    "Classes also support operator overloading methods, which instances inherit, \n",
    "and treat any functions nested in the class as methods for processing instances.\n",
    "\n",
    "\n",
    "\n",
    "Q4. What makes the first argument in a class’s method function special?\n",
    "it always receives the instance object that is the implied subject of the method call.\n",
    "It’s usually called 'self'.\n",
    "\n",
    "\n",
    "\n",
    "Q5. What is the purpose of the __init__ method?\n",
    "the __init__ method is coded or inherited in a class, \n",
    "Python calls it automatically each time an instance of that class is created.\n",
    "\n",
    "\n",
    "\n",
    "Q6. What is the process for creating a class instance?\n",
    "You create a class instance by calling the class name as though it were a function;\n",
    "any arguments passed into the class name show up as arguments two and beyond in the __init__ constructor method.\n",
    "x = ClassName()\n",
    "y = Class()\n",
    "\n",
    "\n",
    "\n",
    "Q7. What is the process for creating a class?\n",
    "class ClassNames():\n",
    "x = ClassName()\n",
    "y = Class()\n",
    "\n",
    "\n",
    "\n",
    "Q8. How would you define the superclasses of a class?\n",
    "the class from which a class inherits is called the parent or superclass.\n",
    "\n",
    "\"\"\""
   ]
  }
 ],
 "metadata": {
  "kernelspec": {
   "display_name": "Python 3",
   "language": "python",
   "name": "python3"
  },
  "language_info": {
   "codemirror_mode": {
    "name": "ipython",
    "version": 3
   },
   "file_extension": ".py",
   "mimetype": "text/x-python",
   "name": "python",
   "nbconvert_exporter": "python",
   "pygments_lexer": "ipython3",
   "version": "3.8.8"
  }
 },
 "nbformat": 4,
 "nbformat_minor": 5
}
