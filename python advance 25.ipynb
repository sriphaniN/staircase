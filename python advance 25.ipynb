{
 "cells": [
  {
   "cell_type": "code",
   "execution_count": null,
   "id": "621991e5",
   "metadata": {},
   "outputs": [],
   "source": [
    "Q1. What is the distinction between a numpy array and a pandas data frame? Is there a way to convert between the two if there is?\n",
    "use Numpy array when there are complex mathematical operations to be performed. \n",
    "Use Pandas dataframe for ease of usage of data preprocessing including performing group operations, \n",
    "creation of Matplotlib plots, rows and columns operations.\n",
    "\n",
    "\n",
    "Q2. What can go wrong when an user enters in a stock-ticker symbol, and how do you handle it?\n",
    "A ticker symbol change really means nothing to you, the investor, in the grand scheme of things.\n",
    "The change doesn't do anything to markets or to the way you execute trades. Since everything is electronic,\n",
    "your trading platform or broker will already update your portfolio to include the new ticker symbol.\n",
    "\n",
    "\n",
    "Q3. Identify some of the plotting techniques that are used to produce a stock-market chart.\n",
    "The main chart types used by most traders are the Line Chart, Candlestick Chart, Renko Chart, and Point and Figure charts.\n",
    "\n",
    "\n",
    "Q4. Why is it essential to print a legend on a stock market chart?\n",
    "the legend displays information about the points that are currently hovered over or, \n",
    "if none are hovered over, about the last points shown on the plot.\n",
    "\n",
    "\n",
    "Q5. What is the best way to limit the length of a pandas data frame to less than a year?\n",
    "Downcasting means we reduce the datatypes of each feature to its lowest possible type.\n",
    "\n",
    "\n",
    "Q6. What is the definition of a 180-day moving average?\n",
    "Moving averages are usually calculated to identify the trend direction of a stock or to determine its support and resistance levels.\n",
    "It is a trend-following—or lagging—indicator because it is based on past prices.\n",
    "\n",
    "\n",
    "Q7. Did the chapter's final example use \"indirect\" importing? If so, how exactly do you do it?\n",
    "a situation in which a company buys products from someone in another country using an intermediary.\n"
   ]
  }
 ],
 "metadata": {
  "kernelspec": {
   "display_name": "Python 3",
   "language": "python",
   "name": "python3"
  },
  "language_info": {
   "codemirror_mode": {
    "name": "ipython",
    "version": 3
   },
   "file_extension": ".py",
   "mimetype": "text/x-python",
   "name": "python",
   "nbconvert_exporter": "python",
   "pygments_lexer": "ipython3",
   "version": "3.8.8"
  }
 },
 "nbformat": 4,
 "nbformat_minor": 5
}
