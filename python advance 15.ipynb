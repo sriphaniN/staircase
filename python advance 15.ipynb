{
 "cells": [
  {
   "cell_type": "code",
   "execution_count": null,
   "id": "7465906c",
   "metadata": {},
   "outputs": [],
   "source": [
    "1.\tWhat are the new features added in Python 3.8 version?\n",
    "Positional-only parameters(/)\n",
    "Assignment Expressions(:=)\n",
    "f-strings  “=”\n",
    "reversed() works with a dictionary\n",
    "No parentheses for return and yield statements\n",
    "pow() function\n",
    "Syntax Warning\n",
    "Dictionary comprehension\n",
    "importlib_metadata\n",
    "‘csv’ module\n",
    "\n",
    "\n",
    "2.\tWhat is monkey patching in Python?\n",
    "he term monkey patch refers to dynamic (or run-time) modifications of a class or module.\n",
    "In Python, w5e can actually change the behavior of code at run-time.\n",
    "\n",
    "\n",
    "3.\tWhat is the difference between a shallow copy and deep copy?\n",
    "A shallow copy constructs a new compound object and then (to the extent possible) inserts references into it to the objects found in the original.\n",
    "A deep copy constructs a new compound object and then, recursively, inserts copies into it of the objects found in the original.\n",
    "\n",
    "\n",
    "4.\tWhat is the maximum possible length of an identifier?\n",
    "79 characters\n",
    "\n",
    "\n",
    "5.\tWhat is generator comprehension?\n",
    "A generator comprehension is a single-line specification for defining a generator in Python.\n"
   ]
  }
 ],
 "metadata": {
  "kernelspec": {
   "display_name": "Python 3",
   "language": "python",
   "name": "python3"
  },
  "language_info": {
   "codemirror_mode": {
    "name": "ipython",
    "version": 3
   },
   "file_extension": ".py",
   "mimetype": "text/x-python",
   "name": "python",
   "nbconvert_exporter": "python",
   "pygments_lexer": "ipython3",
   "version": "3.8.8"
  }
 },
 "nbformat": 4,
 "nbformat_minor": 5
}
