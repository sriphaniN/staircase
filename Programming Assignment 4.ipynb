{
 "cells": [
  {
   "cell_type": "code",
   "execution_count": null,
   "id": "8e8a4f37",
   "metadata": {},
   "outputs": [],
   "source": [
    "\"\"\" 1.\tWrite a Python Program to Find the Factorial of a Number?\n",
    "2.\tWrite a Python Program to Display the multiplication Table?\n",
    "3.\tWrite a Python Program to Print the Fibonacci sequence?\n",
    "4.\tWrite a Python Program to Check Armstrong Number?\n",
    "5.\tWrite a Python Program to Find Armstrong Number in an Interval?\n",
    "6.\tWrite a Python Program to Find the Sum of Natural Numbers?\n",
    "\"\"\""
   ]
  },
  {
   "cell_type": "code",
   "execution_count": 4,
   "id": "cc1e60cd",
   "metadata": {},
   "outputs": [
    {
     "name": "stdout",
     "output_type": "stream",
     "text": [
      "120\n"
     ]
    }
   ],
   "source": [
    "#1.\n",
    "import sympy\n",
    "print((sympy.factorial(5)))"
   ]
  },
  {
   "cell_type": "code",
   "execution_count": 5,
   "id": "f121aa94",
   "metadata": {},
   "outputs": [
    {
     "name": "stdout",
     "output_type": "stream",
     "text": [
      "enter a number: 9\n",
      "9 X 1 = 9\n",
      "9 X 2 = 18\n",
      "9 X 3 = 27\n",
      "9 X 4 = 36\n",
      "9 X 5 = 45\n",
      "9 X 6 = 54\n",
      "9 X 7 = 63\n",
      "9 X 8 = 72\n",
      "9 X 9 = 81\n",
      "9 X 10 = 90\n"
     ]
    }
   ],
   "source": [
    "#2.\n",
    "x = int(input(\"enter a number: \"))\n",
    "for i in range(1,11):\n",
    "    print(x,\"X\",i,\"=\",x*i)"
   ]
  },
  {
   "cell_type": "code",
   "execution_count": 11,
   "id": "858d2082",
   "metadata": {},
   "outputs": [
    {
     "name": "stdout",
     "output_type": "stream",
     "text": [
      "0\n",
      "1\n",
      "1\n",
      "2\n",
      "3\n",
      "5\n",
      "8\n",
      "13\n",
      "21\n",
      "34\n"
     ]
    }
   ],
   "source": [
    "#3.\n",
    "def fib(n):\n",
    "    a = 0\n",
    "    b = 1\n",
    "    if n == 1:\n",
    "        print(a)\n",
    "    else:\n",
    "        print(a)\n",
    "        print(b)\n",
    "        for i in range(2,n):\n",
    "            c = a + b\n",
    "            a = b\n",
    "            b = c\n",
    "            print(c)\n",
    "fib(10)"
   ]
  },
  {
   "cell_type": "code",
   "execution_count": 14,
   "id": "dd001336",
   "metadata": {},
   "outputs": [
    {
     "name": "stdout",
     "output_type": "stream",
     "text": [
      "enter a number: 432\n",
      "not Armstrong\n"
     ]
    }
   ],
   "source": [
    "#4.\n",
    "n = int(input(\"enter a number: \"))\n",
    "s = 0\n",
    "num = n\n",
    "while(n>0):\n",
    "    r = n%10\n",
    "    s = s+(r**3)\n",
    "    n = n/10\n",
    "if(s==num):\n",
    "    print(\"Armstrong\")\n",
    "else:\n",
    "    print(\"not Armstrong\")\n",
    "    "
   ]
  },
  {
   "cell_type": "code",
   "execution_count": 25,
   "id": "01d0a948",
   "metadata": {},
   "outputs": [
    {
     "name": "stdout",
     "output_type": "stream",
     "text": [
      "enter lower limit value100\n",
      "enter Upper limit value1000\n",
      "153\n",
      "370\n",
      "371\n",
      "407\n"
     ]
    }
   ],
   "source": [
    "#5.\n",
    "lowerlimit = int(input(\"enter lower limit value\")) \n",
    "upperlimit = int(input(\"enter Upper limit value\"))\n",
    "for number in range(lowerlimit,upperlimit + 1):\n",
    "    sum = 0\n",
    "    temp = number\n",
    "    while temp > 0:\n",
    "        digit = temp % 10\n",
    "        sum += digit ** 3\n",
    "        temp //= 10\n",
    " \n",
    "    if number == sum:\n",
    "        print(number) "
   ]
  },
  {
   "cell_type": "code",
   "execution_count": 13,
   "id": "459dc75e",
   "metadata": {},
   "outputs": [
    {
     "name": "stdout",
     "output_type": "stream",
     "text": [
      "enter a number: 6\n",
      "sum of natural numbers:  21\n"
     ]
    }
   ],
   "source": [
    "#6.\n",
    "x= int(input(\"enter a number: \"))\n",
    "s= 0\n",
    "for i in range(1,x+1):\n",
    "    s = s+i\n",
    "print(\"sum of natural numbers: \",s)    "
   ]
  },
  {
   "cell_type": "code",
   "execution_count": null,
   "id": "4bba0cf2",
   "metadata": {},
   "outputs": [],
   "source": []
  }
 ],
 "metadata": {
  "kernelspec": {
   "display_name": "Python 3",
   "language": "python",
   "name": "python3"
  },
  "language_info": {
   "codemirror_mode": {
    "name": "ipython",
    "version": 3
   },
   "file_extension": ".py",
   "mimetype": "text/x-python",
   "name": "python",
   "nbconvert_exporter": "python",
   "pygments_lexer": "ipython3",
   "version": "3.8.8"
  }
 },
 "nbformat": 4,
 "nbformat_minor": 5
}
