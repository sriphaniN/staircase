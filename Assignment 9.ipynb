{
 "cells": [
  {
   "cell_type": "code",
   "execution_count": null,
   "id": "b2ea0f62",
   "metadata": {},
   "outputs": [],
   "source": [
    "\"\"\" \n",
    "1. To what does a relative path refer?\n",
    "   relative path needs to combined with another path to access a file.\n",
    "   \n",
    "2. What does an absolute path start with your operating system?\n",
    "   path directory name and exact location ex. C:\\\n",
    "   \n",
    "3. What do the functions os.getcwd() and os.chdir() do?\n",
    "   os.chdir() - used to change the current directory.\n",
    "   \n",
    "4. What are the . and .. folders?\n",
    "    . folder is the current folder\n",
    "    .. is the parent folder.\n",
    "    \n",
    "5. In C:\\bacon\\eggs\\spam.txt, which part is the dir name, and which part is the base name?\n",
    "    C:\\bacon\\eggs is the dir name\n",
    "    spam.txt is the base name.\n",
    "    \n",
    "6. What are the three “mode” arguments that can be passed to the open() function?\n",
    "   r - read mode\n",
    "   w - write mode\n",
    "   a - append mode\n",
    "   \n",
    "7. What happens if an existing file is opened in write mode?\n",
    "   An existing file is erased and completely overwritten.\n",
    "   \n",
    "   \n",
    "8. How do you tell the difference between read() and readlines()?\n",
    "   read() - return the file as a single string value.\n",
    "   readlines() - return list of the string.\n",
    "   \n",
    "9. What data structure does a shelf value resemble?\n",
    "    shelf value is same as dict which contains key and values.\n",
    "\"\"\""
   ]
  },
  {
   "cell_type": "code",
   "execution_count": 1,
   "id": "f6276ec4",
   "metadata": {},
   "outputs": [
    {
     "data": {
      "text/plain": [
       "'C:\\\\Users\\\\Nasika NS'"
      ]
     },
     "execution_count": 1,
     "metadata": {},
     "output_type": "execute_result"
    }
   ],
   "source": [
    "import os\n",
    "os.getcwd()"
   ]
  },
  {
   "cell_type": "code",
   "execution_count": null,
   "id": "0c5bb9d6",
   "metadata": {},
   "outputs": [],
   "source": []
  }
 ],
 "metadata": {
  "kernelspec": {
   "display_name": "Python 3",
   "language": "python",
   "name": "python3"
  },
  "language_info": {
   "codemirror_mode": {
    "name": "ipython",
    "version": 3
   },
   "file_extension": ".py",
   "mimetype": "text/x-python",
   "name": "python",
   "nbconvert_exporter": "python",
   "pygments_lexer": "ipython3",
   "version": "3.8.8"
  }
 },
 "nbformat": 4,
 "nbformat_minor": 5
}
