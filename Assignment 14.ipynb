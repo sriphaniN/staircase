{
 "cells": [
  {
   "cell_type": "code",
   "execution_count": null,
   "id": "06da1df2",
   "metadata": {},
   "outputs": [],
   "source": [
    "\"\"\" \n",
    "1. What does RGBA stand for?\n",
    "   Red,Green,Blue,Alpha.\n",
    "   \n",
    "2. From the Pillow module, how do you get the RGBA value of any images?\n",
    "\n",
    "3. What is a box tuple, and how does it work?\n",
    "   The box.tuple submodule provides read-only access for the tuple userdata type.\n",
    "   It allows, for a single tuple: \n",
    "   selective retrieval of the field contents, retrieval of information about size, iteration over all the fields, and conversion to a Lua table.\n",
    "   \n",
    "   \n",
    "4. Use your image and load in notebook then, How can you find out the width and height of an Image object?\n",
    "    width = img.width\n",
    "    height = img.height\n",
    "    \n",
    "    \n",
    "5. What method would you call to get Image object for a 100×100 image, excluding the lower-left quarter of it?\n",
    "\n",
    "6. After making changes to an Image object, how could you save it as an image file?\n",
    "\n",
    "7. What module contains Pillow’s shape-drawing code?\n",
    "    ImageDraw module\n",
    "    \n",
    "    \n",
    "8. Image objects do not have drawing methods. What kind of object does? How do you get this kind of object?\n",
    "\"\"\""
   ]
  },
  {
   "cell_type": "code",
   "execution_count": null,
   "id": "b9f1f45e",
   "metadata": {},
   "outputs": [],
   "source": [
    "#2.\n",
    "from PIL import Image\n",
    "img = Image.open(‘image.png’)\n",
    "rgba = img.convert(“RGBA”)\n",
    "datas = rgba.getdata()"
   ]
  },
  {
   "cell_type": "code",
   "execution_count": null,
   "id": "91d19d24",
   "metadata": {},
   "outputs": [],
   "source": [
    "#5.\n",
    "from PIL import Image\n",
    "im = Image.new('RGBA', (100, 100),(4,1,9,5))\n"
   ]
  },
  {
   "cell_type": "code",
   "execution_count": null,
   "id": "0aaf07c1",
   "metadata": {},
   "outputs": [],
   "source": [
    "#6.\n",
    "im.save('img.png')"
   ]
  }
 ],
 "metadata": {
  "kernelspec": {
   "display_name": "Python 3",
   "language": "python",
   "name": "python3"
  },
  "language_info": {
   "codemirror_mode": {
    "name": "ipython",
    "version": 3
   },
   "file_extension": ".py",
   "mimetype": "text/x-python",
   "name": "python",
   "nbconvert_exporter": "python",
   "pygments_lexer": "ipython3",
   "version": "3.8.8"
  }
 },
 "nbformat": 4,
 "nbformat_minor": 5
}
