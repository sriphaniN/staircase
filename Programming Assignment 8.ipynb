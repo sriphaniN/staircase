{
 "cells": [
  {
   "cell_type": "code",
   "execution_count": null,
   "id": "0c242fce",
   "metadata": {},
   "outputs": [],
   "source": [
    "\"\"\"\n",
    "1.\tWrite a Python Program to Add Two Matrices?\n",
    "2.\tWrite a Python Program to Multiply Two Matrices?\n",
    "3.\tWrite a Python Program to Transpose a Matrix?\n",
    "4.\tWrite a Python Program to Sort Words in Alphabetic Order?\n",
    "5.\tWrite a Python Program to Remove Punctuation From a String?\n",
    "\"\"\""
   ]
  },
  {
   "cell_type": "code",
   "execution_count": 5,
   "id": "414f75b5",
   "metadata": {},
   "outputs": [],
   "source": [
    "from sympy.matrices import Matrix"
   ]
  },
  {
   "cell_type": "code",
   "execution_count": 7,
   "id": "1ecc945c",
   "metadata": {},
   "outputs": [
    {
     "data": {
      "text/latex": [
       "$\\displaystyle \\left[\\begin{matrix}3 & 13 & 9\\\\8 & 6 & 15\\\\11 & 6 & 11\\end{matrix}\\right]$"
      ],
      "text/plain": [
       "Matrix([\n",
       "[ 3, 13,  9],\n",
       "[ 8,  6, 15],\n",
       "[11,  6, 11]])"
      ]
     },
     "execution_count": 7,
     "metadata": {},
     "output_type": "execute_result"
    }
   ],
   "source": [
    "#1.\n",
    "x = Matrix([[2,5,4],[1,3,9],[7,6,2]])\n",
    "y = Matrix([[1,8,5],[7,3,6],[4,0,9]])\n",
    "x+y"
   ]
  },
  {
   "cell_type": "code",
   "execution_count": 8,
   "id": "bb1430e2",
   "metadata": {},
   "outputs": [
    {
     "data": {
      "text/latex": [
       "$\\displaystyle \\left[\\begin{matrix}53 & 31 & 76\\\\58 & 17 & 104\\\\57 & 74 & 89\\end{matrix}\\right]$"
      ],
      "text/plain": [
       "Matrix([\n",
       "[53, 31,  76],\n",
       "[58, 17, 104],\n",
       "[57, 74,  89]])"
      ]
     },
     "execution_count": 8,
     "metadata": {},
     "output_type": "execute_result"
    }
   ],
   "source": [
    "#2.\n",
    "x*y"
   ]
  },
  {
   "cell_type": "code",
   "execution_count": 12,
   "id": "54ab0e67",
   "metadata": {},
   "outputs": [],
   "source": [
    "import numpy as np"
   ]
  },
  {
   "cell_type": "code",
   "execution_count": 13,
   "id": "6a2a3c1a",
   "metadata": {},
   "outputs": [
    {
     "data": {
      "text/plain": [
       "array([[2, 1, 7],\n",
       "       [5, 3, 6],\n",
       "       [4, 9, 2]], dtype=object)"
      ]
     },
     "execution_count": 13,
     "metadata": {},
     "output_type": "execute_result"
    }
   ],
   "source": [
    "#3.\n",
    "np.transpose(x)"
   ]
  },
  {
   "cell_type": "code",
   "execution_count": 17,
   "id": "bb2d9ece",
   "metadata": {},
   "outputs": [
    {
     "name": "stdout",
     "output_type": "stream",
     "text": [
      "['a', 'd', 'f', 't', 'u']\n"
     ]
    }
   ],
   "source": [
    "#4.\n",
    "li = [\"f\",\"d\",\"u\",\"t\",\"a\"]\n",
    "li.sort()\n",
    "print(li)"
   ]
  },
  {
   "cell_type": "code",
   "execution_count": 19,
   "id": "d744f632",
   "metadata": {},
   "outputs": [
    {
     "data": {
      "text/plain": [
       "'EDuGGUYC'"
      ]
     },
     "execution_count": 19,
     "metadata": {},
     "output_type": "execute_result"
    }
   ],
   "source": [
    "#5.\n",
    "import string\n",
    "a = \"E$Du$G&GU^Y$#C\"\n",
    "a.translate(str.maketrans('', '', string.punctuation))"
   ]
  },
  {
   "cell_type": "code",
   "execution_count": null,
   "id": "f46d4684",
   "metadata": {},
   "outputs": [],
   "source": []
  }
 ],
 "metadata": {
  "kernelspec": {
   "display_name": "Python 3",
   "language": "python",
   "name": "python3"
  },
  "language_info": {
   "codemirror_mode": {
    "name": "ipython",
    "version": 3
   },
   "file_extension": ".py",
   "mimetype": "text/x-python",
   "name": "python",
   "nbconvert_exporter": "python",
   "pygments_lexer": "ipython3",
   "version": "3.8.8"
  }
 },
 "nbformat": 4,
 "nbformat_minor": 5
}
