{
 "cells": [
  {
   "cell_type": "code",
   "execution_count": null,
   "id": "5ba0f120",
   "metadata": {},
   "outputs": [],
   "source": [
    "\"\"\"Q1. What is the difference between __getattr__ and __getattribute__?\n",
    "The main difference between __getattr__ and __getattribute__ is that if the attribute was not found by the usual way then __getattr__ is used.\n",
    "Whereas the __getattribute__ is used before looking at the actual attributes on the object.\n",
    "You will have to use it more consciously otherwise very easily you can end up in infinite recursions.\n",
    "\n",
    "\n",
    "Q2. What is the difference between properties and descriptors?\n",
    "descriptors are a low-level mechanism that lets you hook into an object's attributes being accessed. \n",
    "Properties are a high-level application of this; that is, properties are implemented using descriptors\n",
    "\n",
    "\n",
    "Q3. What are the key differences in functionality between __getattr__ and __getattribute__, as well as properties and descriptors?\n",
    "the above mentioned answers\n",
    "\"\"\""
   ]
  }
 ],
 "metadata": {
  "kernelspec": {
   "display_name": "Python 3",
   "language": "python",
   "name": "python3"
  },
  "language_info": {
   "codemirror_mode": {
    "name": "ipython",
    "version": 3
   },
   "file_extension": ".py",
   "mimetype": "text/x-python",
   "name": "python",
   "nbconvert_exporter": "python",
   "pygments_lexer": "ipython3",
   "version": "3.8.8"
  }
 },
 "nbformat": 4,
 "nbformat_minor": 5
}
