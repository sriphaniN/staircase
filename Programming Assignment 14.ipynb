{
 "cells": [
  {
   "cell_type": "code",
   "execution_count": null,
   "id": "c67d2814",
   "metadata": {},
   "outputs": [],
   "source": [
    "Question 1:\n",
    "\n",
    "Define a class with a generator which can iterate the numbers, which are divisible by 7, between a given range 0 and n.\n"
   ]
  },
  {
   "cell_type": "code",
   "execution_count": 12,
   "id": "643ca80c",
   "metadata": {},
   "outputs": [
    {
     "name": "stdout",
     "output_type": "stream",
     "text": [
      "0\n",
      "7\n",
      "14\n",
      "21\n",
      "28\n",
      "35\n",
      "42\n",
      "49\n"
     ]
    }
   ],
   "source": [
    "def div7(n):\n",
    "    i = 0\n",
    "    while i<n:\n",
    "        j=i\n",
    "        i=i+1\n",
    "        if j%7==0:\n",
    "            yield j\n",
    "for i in div7(50):\n",
    "     print(i)"
   ]
  },
  {
   "cell_type": "code",
   "execution_count": null,
   "id": "1f719711",
   "metadata": {},
   "outputs": [],
   "source": [
    "Question 2:\n",
    "Write a program to compute the frequency of the words from the input. The output should output after sorting the key alphanumerically. \n",
    "\n",
    "Suppose the following input is supplied to the program:\n",
    "\n",
    "New to Python or choosing between Python 2 and Python 3? Read Python 2 or Python 3.\n",
    "\n",
    "Then, the output should be:\n",
    "2:2\n",
    "3.:1\n",
    "3?:1\n",
    "New:1\n",
    "Python:5\n",
    "Read:1\n",
    "and:1\n",
    "between:1\n",
    "choosing:1\n",
    "or:2\n",
    "to:1\n",
    "\n"
   ]
  },
  {
   "cell_type": "code",
   "execution_count": 13,
   "id": "8781fe53",
   "metadata": {},
   "outputs": [
    {
     "name": "stdout",
     "output_type": "stream",
     "text": [
      "New to Python or choosing between Python 2 and Python 3? Read Python 2 or Python 3.\n",
      "{'2': 2,\n",
      " '3.': 1,\n",
      " '3?': 1,\n",
      " 'New': 1,\n",
      " 'Python': 5,\n",
      " 'Read': 1,\n",
      " 'and': 1,\n",
      " 'between': 1,\n",
      " 'choosing': 1,\n",
      " 'or': 2,\n",
      " 'to': 1}\n"
     ]
    }
   ],
   "source": [
    "from pprint import pprint\n",
    "p=input().split()\n",
    "pprint({i:p.count(i) for i in p})"
   ]
  },
  {
   "cell_type": "code",
   "execution_count": null,
   "id": "3e7655dd",
   "metadata": {},
   "outputs": [],
   "source": [
    "Question 3:\n",
    "\n",
    "Define a class Person and its two child classes: Male and Female. \n",
    "All classes have a method \"getGender\" which can print \"Male\" for Male class and \"Female\" for Female class.\n"
   ]
  },
  {
   "cell_type": "code",
   "execution_count": 16,
   "id": "06bfd2e8",
   "metadata": {},
   "outputs": [
    {
     "name": "stdout",
     "output_type": "stream",
     "text": [
      "Male\n",
      "Female\n"
     ]
    }
   ],
   "source": [
    "class Person(object):\n",
    "    def getGender( self ):\n",
    "        return \"Unknown\"\n",
    "\n",
    "class Male( Person ):\n",
    "    def getGender( self ):\n",
    "        return \"Male\"\n",
    "\n",
    "class Female( Person ):\n",
    "    def getGender( self ):\n",
    "        return \"Female\"\n",
    "\n",
    "aMale = Male()\n",
    "aFemale= Female()\n",
    "print (aMale.getGender())\n",
    "print (aFemale.getGender())"
   ]
  },
  {
   "cell_type": "code",
   "execution_count": null,
   "id": "78640393",
   "metadata": {},
   "outputs": [],
   "source": [
    "Question 4:\n",
    "Please write a program to generate all sentences where subject is in [\"I\", \"You\"] and \n",
    "verb is in [\"Play\", \"Love\"] and the object is in [\"Hockey\",\"Football\"].\n"
   ]
  },
  {
   "cell_type": "code",
   "execution_count": 17,
   "id": "96c2409a",
   "metadata": {},
   "outputs": [
    {
     "name": "stdout",
     "output_type": "stream",
     "text": [
      "I Play Hockey\n",
      "I Play Football\n",
      "I Love Hockey\n",
      "I Love Football\n",
      "You Play Hockey\n",
      "You Play Football\n",
      "You Love Hockey\n",
      "You Love Football\n"
     ]
    }
   ],
   "source": [
    "subject=[\"I\", \"You\"]\n",
    "verbs=[\"Play\", \"Love\"]\n",
    "objects=[\"Hockey\",\"Football\"]\n",
    "\n",
    "for sub in subjects:\n",
    "    for verb in verbs:\n",
    "        for obj in objects:\n",
    "            print(\"{} {} {}\".format(sub,verb,obj))"
   ]
  },
  {
   "cell_type": "code",
   "execution_count": null,
   "id": "eb918e97",
   "metadata": {},
   "outputs": [],
   "source": [
    "Question 5:\n",
    "    Please write a program to compress and decompress the string \"hello world!hello world!hello world!hello world!\"."
   ]
  },
  {
   "cell_type": "code",
   "execution_count": 20,
   "id": "b3211160",
   "metadata": {},
   "outputs": [
    {
     "name": "stdout",
     "output_type": "stream",
     "text": [
      "b'x\\x9c\\xcbH\\xcd\\xc9\\xc9W(\\xcf/\\xcaIQ\\xcc \\x82\\r\\x00\\xbd[\\x11\\xf5'\n",
      "b'hello world!hello world!hello world!hello world!'\n"
     ]
    }
   ],
   "source": [
    "s = 'hello world!hello world!hello world!hello world!'\n",
    "y = bytes(s, 'utf-8')\n",
    "x = zlib.compress(y)\n",
    "print(x)\n",
    "print(zlib.decompress(x))"
   ]
  },
  {
   "cell_type": "code",
   "execution_count": null,
   "id": "a700a37e",
   "metadata": {},
   "outputs": [],
   "source": [
    "Question 6:\n",
    "Please write a binary search function which searches an item in a sorted list.\n",
    "The function should return the index of element to be searched in the list.\n"
   ]
  },
  {
   "cell_type": "code",
   "execution_count": 23,
   "id": "6c5817d1",
   "metadata": {},
   "outputs": [
    {
     "name": "stdout",
     "output_type": "stream",
     "text": [
      "1\n"
     ]
    }
   ],
   "source": [
    "def binary_search(li, item):\n",
    "    low = 0\n",
    "    high = len(li) - 1\n",
    "    \n",
    "    while low <= high:\n",
    "        mid = round((low + high) / 2)\n",
    "        \n",
    "        if li[mid] == item:\n",
    "            return mid\n",
    "        elif li[mid] > item:\n",
    "            high = mid - 1\n",
    "        else:\n",
    "            low = mid + 1\n",
    "    return None\n",
    "    \n",
    "li = [1,3,5,7]\n",
    "print(binary_search(li, 3)) "
   ]
  },
  {
   "cell_type": "code",
   "execution_count": null,
   "id": "e7c6b7ec",
   "metadata": {},
   "outputs": [],
   "source": []
  }
 ],
 "metadata": {
  "kernelspec": {
   "display_name": "Python 3",
   "language": "python",
   "name": "python3"
  },
  "language_info": {
   "codemirror_mode": {
    "name": "ipython",
    "version": 3
   },
   "file_extension": ".py",
   "mimetype": "text/x-python",
   "name": "python",
   "nbconvert_exporter": "python",
   "pygments_lexer": "ipython3",
   "version": "3.8.8"
  }
 },
 "nbformat": 4,
 "nbformat_minor": 5
}
