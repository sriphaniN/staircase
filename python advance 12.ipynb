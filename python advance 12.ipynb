{
 "cells": [
  {
   "cell_type": "code",
   "execution_count": null,
   "id": "aea9134b",
   "metadata": {},
   "outputs": [],
   "source": [
    "\"\"\"Q1. Does assigning a value to a string's indexed character violate Python's string immutability?\n",
    " yes,a string is immutable. You cannot overwrite the values of immutable objects. \n",
    " However, you can assign the variable again. It's not modifying the string object; it's creating a new string object.\n",
    "\n",
    "\n",
    "Q2. Q2. Does using the += operator to concatenate strings violate Python's string immutability? Why or why not?\n",
    "Yes, but with += on immutable objects, the old and new values are supposed to have overlapping lifetime.\n",
    "The new value is supposed to be created before the assignment happens, \n",
    "and the old value's lifetime only ends once the new value is assigned to the variable. \n",
    "\n",
    "\n",
    "Q3. In Python, how many different ways are there to index a character?\n",
    "Two ways : \n",
    "Accessing Characters by Positive Index Number. \n",
    "Accessing Characters by Negative Index Number\n",
    "\n",
    "\n",
    "Q4. What is the relationship between indexing and slicing?\n",
    "Indexing: Indexing is used to obtain individual elements.\n",
    "Slicing: Slicing is used to obtain a sequence of elements. \n",
    "\n",
    "\n",
    "Q5. What is an indexed character's exact data type? What is the data form of a slicing-generated substring?\n",
    "indexing returns a string — Python has no special type for a single character. It is just a string of length 1.\n",
    "string[begin:end: step]: substring includes characters from start to end-1 excusing every step character.\n",
    "\n",
    "\n",
    "Q6. What is the relationship between string and character \"types\" in Python?\n",
    " Strings are arrays of bytes representing Unicode characters. \n",
    " However, Python does not have a character data type, a single character is simply a string with a length of 1.\n",
    "\n",
    "\n",
    "Q7. Identify at least two operators and one method that allow you to combine one or more smaller strings to create a larger string.\n",
    "+ operator. \n",
    "join() method. \n",
    "% operator. \n",
    "format() function.\n",
    "\n",
    "\n",
    "Q8. What is the benefit of first checking the target string with in or not in before using the index method to find a substring?\n",
    "The idea is to run a loop from start to end and for every index in the given string check whether the sub-string can be formed from that index.\n",
    "This can be done by running a nested loop traversing the given string and in that loop run another loop checking for sub-string from every index. \n",
    "\n",
    "\n",
    "Q9. Which operators and built-in string methods produce simple Boolean (true/false) results?\n",
    "equality operator (==) and the inequality operator (!=). \n",
    "is operator.\n",
    "bool operator.\n",
    "\"\"\""
   ]
  }
 ],
 "metadata": {
  "kernelspec": {
   "display_name": "Python 3",
   "language": "python",
   "name": "python3"
  },
  "language_info": {
   "codemirror_mode": {
    "name": "ipython",
    "version": 3
   },
   "file_extension": ".py",
   "mimetype": "text/x-python",
   "name": "python",
   "nbconvert_exporter": "python",
   "pygments_lexer": "ipython3",
   "version": "3.8.8"
  }
 },
 "nbformat": 4,
 "nbformat_minor": 5
}
