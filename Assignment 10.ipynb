{
 "cells": [
  {
   "cell_type": "code",
   "execution_count": null,
   "id": "9c2aaf12",
   "metadata": {},
   "outputs": [],
   "source": [
    "\"\"\" \n",
    "1. How do you distinguish between shutil.copy() and shutil.copytree()?\n",
    "     shutil.copy() - copy a single file.\n",
    "     shutil.copytree() -  copy  entire folder.\n",
    "     \n",
    "     \n",
    "2. What function is used to rename files??\n",
    "   shutil.move().\n",
    "   \n",
    "   \n",
    "3. What is the difference between the delete functions in the send2trash and shutil modules?\n",
    "   send2trash move the file to recycle bin but shutil module permenantly delete the file.\n",
    "   \n",
    "   \n",
    "4.ZipFile objects have a close() method just like File objects’ close() method. \n",
    "   What ZipFile method is equivalent to File objects’ open() method?\n",
    "     zipfile.ZipFile() \n",
    "     \n",
    "     \n",
    "5. Create a programme that searches a folder tree for files with a certain file extension (such as .pdf or .jpg). \n",
    "   Copy these files from whatever location they are in to a new folder.\n",
    "   \n",
    "\"\"\""
   ]
  }
 ],
 "metadata": {
  "kernelspec": {
   "display_name": "Python 3",
   "language": "python",
   "name": "python3"
  },
  "language_info": {
   "codemirror_mode": {
    "name": "ipython",
    "version": 3
   },
   "file_extension": ".py",
   "mimetype": "text/x-python",
   "name": "python",
   "nbconvert_exporter": "python",
   "pygments_lexer": "ipython3",
   "version": "3.8.8"
  }
 },
 "nbformat": 4,
 "nbformat_minor": 5
}
