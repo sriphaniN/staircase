{
 "cells": [
  {
   "cell_type": "code",
   "execution_count": null,
   "id": "1b303279",
   "metadata": {},
   "outputs": [],
   "source": [
    "\"\"\" \n",
    "Q1.What is the relationship between classes and modules?\n",
    "a class is used to define a blueprint for a given object, \n",
    "whereas a module is used to reuse a given piece of code inside another program.\n",
    "\n",
    "\n",
    "\n",
    "Q2. How do you make instances and classes?\n",
    "instances - To create instances of a class,\n",
    "you call the class using class name and pass in whatever arguments its __init__ method accepts.\n",
    "x = class1()\n",
    "y = class2()\n",
    "class - class ClassName:\n",
    "              \n",
    "\n",
    "\n",
    "Q3. Where and how should be class attributes created?\n",
    "class attributres belong to the class itself they will be shared by all the instances.\n",
    "Such attributes are present in the class body parts usually at the top.\n",
    " class ClassName:\n",
    "\n",
    "\n",
    "\n",
    "Q4. Where and how are instance attributes created?\n",
    "instance attributes are not shared by objects.\n",
    "Every object has its own copy of the instance attribute.\n",
    "x = class1()\n",
    "y = class2()\n",
    "\n",
    "\n",
    "\n",
    "Q5. What does the term \"self\" in a Python class mean?\n",
    "self parameter is a reference to the current instance of the class\n",
    "\n",
    "\n",
    "\n",
    "Q6. How does a Python class handle operator overloading?\n",
    " \"+\" operator  and __add__ for adding. as well as other operators.\n",
    "\n",
    "\n",
    "\n",
    "Q7. When do you consider allowing operator overloading of your classes?\n",
    "to provide a special meaning of an operator for a user-defined data type.\n",
    "\n",
    "\n",
    "\n",
    "Q8.What is the most popular form of operator overloading?\n",
    "  Addition (+) operator\n",
    "\n",
    "\n",
    "Q9. What are the two most important concepts to grasp in order to comprehend Python OOP code?\n",
    "inheritance and ploymorphism.\n",
    "\n",
    "\n",
    "\"\"\""
   ]
  }
 ],
 "metadata": {
  "kernelspec": {
   "display_name": "Python 3",
   "language": "python",
   "name": "python3"
  },
  "language_info": {
   "codemirror_mode": {
    "name": "ipython",
    "version": 3
   },
   "file_extension": ".py",
   "mimetype": "text/x-python",
   "name": "python",
   "nbconvert_exporter": "python",
   "pygments_lexer": "ipython3",
   "version": "3.8.8"
  }
 },
 "nbformat": 4,
 "nbformat_minor": 5
}
