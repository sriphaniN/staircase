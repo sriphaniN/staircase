{
 "cells": [
  {
   "cell_type": "code",
   "execution_count": null,
   "id": "08eda279",
   "metadata": {},
   "outputs": [],
   "source": [
    "\"\"\"\n",
    "1.\tWrite a Python Program to Find LCM?\n",
    "2.\tWrite a Python Program to Find HCF?\n",
    "3.\tWrite a Python Program to Convert Decimal to Binary, Octal and Hexadecimal?\n",
    "4.\tWrite a Python Program To Find ASCII value of a character?\n",
    "5.\tWrite a Python Program to Make a Simple Calculator with 4 basic mathematical operations?\n",
    "\"\"\""
   ]
  },
  {
   "cell_type": "code",
   "execution_count": 1,
   "id": "bcbfdd99",
   "metadata": {},
   "outputs": [],
   "source": [
    "import sympy"
   ]
  },
  {
   "cell_type": "code",
   "execution_count": 4,
   "id": "2a9b4eea",
   "metadata": {},
   "outputs": [
    {
     "name": "stdout",
     "output_type": "stream",
     "text": [
      "18\n"
     ]
    }
   ],
   "source": [
    "#1.\n",
    "print(sympy.lcm(6,9))"
   ]
  },
  {
   "cell_type": "code",
   "execution_count": 8,
   "id": "c5c9eda4",
   "metadata": {
    "scrolled": true
   },
   "outputs": [
    {
     "name": "stdout",
     "output_type": "stream",
     "text": [
      "50\n"
     ]
    }
   ],
   "source": [
    "#2.\n",
    "x = 100\n",
    "y = 200\n",
    "hcf = 1\n",
    "for i in range(1, min(x,y)):\n",
    "\n",
    "    if x % i == 0 and y % i == 0:\n",
    "        hcf = i\n",
    "print(hcf)        "
   ]
  },
  {
   "cell_type": "code",
   "execution_count": 9,
   "id": "2dfd4b56",
   "metadata": {},
   "outputs": [
    {
     "name": "stdout",
     "output_type": "stream",
     "text": [
      "enter a decimal number: 6\n",
      "0b110\n"
     ]
    }
   ],
   "source": [
    "#3.\n",
    "x = int(input(\"enter a decimal number: \"))\n",
    "print(bin(x))"
   ]
  },
  {
   "cell_type": "code",
   "execution_count": 10,
   "id": "40f6df1f",
   "metadata": {},
   "outputs": [
    {
     "name": "stdout",
     "output_type": "stream",
     "text": [
      "enter a decimal number: 6\n",
      "0o6\n"
     ]
    }
   ],
   "source": [
    "y = int(input(\"enter a decimal number: \"))\n",
    "print(oct(y))"
   ]
  },
  {
   "cell_type": "code",
   "execution_count": 11,
   "id": "53c16809",
   "metadata": {},
   "outputs": [
    {
     "name": "stdout",
     "output_type": "stream",
     "text": [
      "enter a decimal number: 6\n",
      "0x6\n"
     ]
    }
   ],
   "source": [
    "z = int(input(\"enter a decimal number: \"))\n",
    "print(hex(z))"
   ]
  },
  {
   "cell_type": "code",
   "execution_count": 12,
   "id": "af98dd7e",
   "metadata": {},
   "outputs": [
    {
     "name": "stdout",
     "output_type": "stream",
     "text": [
      "enter a charcter: g\n",
      "103\n"
     ]
    }
   ],
   "source": [
    "#4.\n",
    "a = (input(\"enter a charcter: \"))\n",
    "print(ord(a))"
   ]
  },
  {
   "cell_type": "code",
   "execution_count": 19,
   "id": "031b1c16",
   "metadata": {},
   "outputs": [],
   "source": [
    "#5.\n",
    "def add(x,y):\n",
    "    \n",
    "    return  x + y"
   ]
  },
  {
   "cell_type": "code",
   "execution_count": 20,
   "id": "dbbf754a",
   "metadata": {},
   "outputs": [
    {
     "data": {
      "text/plain": [
       "15"
      ]
     },
     "execution_count": 20,
     "metadata": {},
     "output_type": "execute_result"
    }
   ],
   "source": [
    "add(10,5)"
   ]
  },
  {
   "cell_type": "code",
   "execution_count": 21,
   "id": "c3953c95",
   "metadata": {},
   "outputs": [],
   "source": [
    "def sub(x,y):\n",
    "    \n",
    "    return  x - y"
   ]
  },
  {
   "cell_type": "code",
   "execution_count": 22,
   "id": "fef6d647",
   "metadata": {},
   "outputs": [],
   "source": [
    "def mul(x,y):\n",
    "    \n",
    "    return  x * y"
   ]
  },
  {
   "cell_type": "code",
   "execution_count": 23,
   "id": "4e415b20",
   "metadata": {},
   "outputs": [],
   "source": [
    "def div(x,y):\n",
    "    \n",
    "    return  x / y"
   ]
  },
  {
   "cell_type": "code",
   "execution_count": 24,
   "id": "3cf97096",
   "metadata": {},
   "outputs": [
    {
     "data": {
      "text/plain": [
       "5"
      ]
     },
     "execution_count": 24,
     "metadata": {},
     "output_type": "execute_result"
    }
   ],
   "source": [
    "sub(10,5)"
   ]
  },
  {
   "cell_type": "code",
   "execution_count": 25,
   "id": "bb2eb1ee",
   "metadata": {},
   "outputs": [
    {
     "data": {
      "text/plain": [
       "60"
      ]
     },
     "execution_count": 25,
     "metadata": {},
     "output_type": "execute_result"
    }
   ],
   "source": [
    "mul(10,6)"
   ]
  },
  {
   "cell_type": "code",
   "execution_count": 26,
   "id": "00c2f7e3",
   "metadata": {},
   "outputs": [
    {
     "data": {
      "text/plain": [
       "2.0"
      ]
     },
     "execution_count": 26,
     "metadata": {},
     "output_type": "execute_result"
    }
   ],
   "source": [
    "div(10,5)"
   ]
  },
  {
   "cell_type": "code",
   "execution_count": null,
   "id": "b4bc5615",
   "metadata": {},
   "outputs": [],
   "source": []
  }
 ],
 "metadata": {
  "kernelspec": {
   "display_name": "Python 3",
   "language": "python",
   "name": "python3"
  },
  "language_info": {
   "codemirror_mode": {
    "name": "ipython",
    "version": 3
   },
   "file_extension": ".py",
   "mimetype": "text/x-python",
   "name": "python",
   "nbconvert_exporter": "python",
   "pygments_lexer": "ipython3",
   "version": "3.8.8"
  }
 },
 "nbformat": 4,
 "nbformat_minor": 5
}
