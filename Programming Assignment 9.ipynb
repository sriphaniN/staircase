{
 "cells": [
  {
   "cell_type": "code",
   "execution_count": null,
   "id": "48e05b63",
   "metadata": {},
   "outputs": [],
   "source": [
    "\"\"\"\n",
    "1.\tWrite a Python program to check if the given number is a Disarium Number?\n",
    "2.\tWrite a Python program to print all disarium numbers between 1 to 100?\n",
    "3.\tWrite a Python program to check if the given number is Happy Number?\n",
    "4.\tWrite a Python program to print all happy numbers between 1 and 100?\n",
    "5.\tWrite a Python program to determine whether the given number is a Harshad Number?\n",
    "6.\tWrite a Python program to print all pronic numbers between 1 and 100?\n",
    "\"\"\""
   ]
  },
  {
   "cell_type": "code",
   "execution_count": 11,
   "id": "a5bebb27",
   "metadata": {},
   "outputs": [],
   "source": [
    "#1.\n",
    "def is_disarium(num):\n",
    "    x = 0\n",
    "    for i in range(len(str(num))):\n",
    "        x += int(str(num)[i]) ** (i + 1)\n",
    "    return x == num"
   ]
  },
  {
   "cell_type": "code",
   "execution_count": 13,
   "id": "7dad38e7",
   "metadata": {},
   "outputs": [
    {
     "data": {
      "text/plain": [
       "False"
      ]
     },
     "execution_count": 13,
     "metadata": {},
     "output_type": "execute_result"
    }
   ],
   "source": [
    "is_disarium(398)"
   ]
  },
  {
   "cell_type": "code",
   "execution_count": 16,
   "id": "f2a9763c",
   "metadata": {},
   "outputs": [
    {
     "name": "stdout",
     "output_type": "stream",
     "text": [
      "Disarium numbers between 1 and 100 are\n",
      "1\n",
      "2\n",
      "3\n",
      "4\n",
      "5\n",
      "6\n",
      "7\n",
      "8\n",
      "9\n",
      "89\n"
     ]
    }
   ],
   "source": [
    "#2.\n",
    "def calculateLength(n):    \n",
    "    length = 0;    \n",
    "    while(n != 0):    \n",
    "        length = length + 1;    \n",
    "        n = n//10;    \n",
    "    return length;    \n",
    "     \n",
    "    \n",
    "def sumOfDigits(num):    \n",
    "    rem = sum = 0;    \n",
    "    len = calculateLength(num);    \n",
    "        \n",
    "    while(num > 0):    \n",
    "        rem = num%10;    \n",
    "        sum = sum + (rem**len);    \n",
    "        num = num//10;    \n",
    "        len = len - 1;    \n",
    "    return sum;    \n",
    "result = 0;    \n",
    "     \n",
    "print(\"Disarium numbers between 1 and 100 are\");    \n",
    "for i in range(1, 101):    \n",
    "    result = sumOfDigits(i);    \n",
    "        \n",
    "    if(result == i):    \n",
    "        print(i)"
   ]
  },
  {
   "cell_type": "code",
   "execution_count": 17,
   "id": "e0475035",
   "metadata": {},
   "outputs": [],
   "source": [
    "#3.\n",
    "def is_Happynum(n):\n",
    "    x = set()\n",
    "    while n != 1:\n",
    "        n = sum(int(i)**2 for i in str(n))\n",
    "        if n in x:\n",
    "            return False\n",
    "        x.add(n)\n",
    "    return True"
   ]
  },
  {
   "cell_type": "code",
   "execution_count": 18,
   "id": "40f387cb",
   "metadata": {},
   "outputs": [
    {
     "data": {
      "text/plain": [
       "False"
      ]
     },
     "execution_count": 18,
     "metadata": {},
     "output_type": "execute_result"
    }
   ],
   "source": [
    "is_Happynum(69)"
   ]
  },
  {
   "cell_type": "code",
   "execution_count": 19,
   "id": "5fa41bba",
   "metadata": {},
   "outputs": [
    {
     "name": "stdout",
     "output_type": "stream",
     "text": [
      "10\n",
      "100\n",
      "Happy numbers between  10  and  100  are: \n",
      "10 13 19 23 28 31 32 44 49 68 70 79 82 86 91 94 97 100 "
     ]
    }
   ],
   "source": [
    "#4.\n",
    "range1=int(input())\n",
    "range2=int(input())\n",
    "print(\"Happy numbers between \",range1,\" and \",range2,\" are: \")\n",
    "for i in range(range1,range2+1):\n",
    "    num=i\n",
    "    sum=0\n",
    "    while sum != 1 and sum != 4:\n",
    "        sum = 0\n",
    "        while num != 0:\n",
    "            rem = num % 10\n",
    "            sum += (rem * rem)\n",
    "            num //= 10\n",
    "        num = sum\n",
    "\n",
    "    if sum == 1:\n",
    "        print(i,end=\" \")"
   ]
  },
  {
   "cell_type": "code",
   "execution_count": 21,
   "id": "0bd5de18",
   "metadata": {},
   "outputs": [
    {
     "name": "stdout",
     "output_type": "stream",
     "text": [
      "Enter the Number to Check Harshad Number = 98\n",
      "The Sum of the Digits = 17\n",
      " 98 Not a Harshad Number.\n"
     ]
    }
   ],
   "source": [
    "#5.\n",
    "Num = int(input(\"Enter the Number to Check Harshad Number = \"))\n",
    "Sum = 0\n",
    "rem = 0\n",
    "\n",
    "x = Num\n",
    "while x > 0:\n",
    "    rem = x % 10\n",
    "    Sum = Sum + rem\n",
    "    x = x // 10\n",
    "\n",
    "print(\"The Sum of the Digits = %d\" %Sum)\n",
    "\n",
    "if Num % Sum == 0:\n",
    "    print(\"\\n%d  Harshad Number.\" %Num)\n",
    "else:\n",
    "    print(\" %d Not a Harshad Number.\" %Num)"
   ]
  },
  {
   "cell_type": "code",
   "execution_count": 22,
   "id": "ef1b2e75",
   "metadata": {},
   "outputs": [
    {
     "name": "stdout",
     "output_type": "stream",
     "text": [
      "6\n",
      "8\n",
      "Pronic numbers between  6  and  8  are: \n",
      "6 "
     ]
    }
   ],
   "source": [
    "#6.\n",
    "import math\n",
    "range1=int(input())\n",
    "range2=int(input())\n",
    "print(\"Pronic numbers between \",range1,\" and \",range2,\" are: \")\n",
    "for i in range(range1,range2+1):\n",
    "    flag = 0\n",
    "    for j in range(0, i + 1):\n",
    "        if j * (j + 1) == i:\n",
    "            flag = 1\n",
    "            break\n",
    "    if flag == 1:\n",
    "        print(i,end=\" \")"
   ]
  },
  {
   "cell_type": "code",
   "execution_count": null,
   "id": "a1679983",
   "metadata": {},
   "outputs": [],
   "source": []
  }
 ],
 "metadata": {
  "kernelspec": {
   "display_name": "Python 3",
   "language": "python",
   "name": "python3"
  },
  "language_info": {
   "codemirror_mode": {
    "name": "ipython",
    "version": 3
   },
   "file_extension": ".py",
   "mimetype": "text/x-python",
   "name": "python",
   "nbconvert_exporter": "python",
   "pygments_lexer": "ipython3",
   "version": "3.8.8"
  }
 },
 "nbformat": 4,
 "nbformat_minor": 5
}
