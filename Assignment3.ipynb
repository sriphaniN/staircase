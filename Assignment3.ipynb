{
 "cells": [
  {
   "cell_type": "code",
   "execution_count": null,
   "id": "a583a843",
   "metadata": {},
   "outputs": [],
   "source": [
    "\"\"\" \n",
    "1. Why are functions advantageous to have in your programs?\n",
    " - understanding code become very easy.\n",
    " - we can call that function many times.\n",
    " - no need to write entire funtion, we can simply call that function name.\n",
    " - big problem can slove into small samples.\n",
    " -  can't much consume space and memory.\n",
    "  \n",
    "2. When does the code in a function run: when it's specified or when it's called?\n",
    "  - function should have parentheses(()), \n",
    "  - a colon(:) , \n",
    "  - arguments with in the parentheses , \n",
    "  - properly indented , \n",
    "  - return or print expression statement in the end.\n",
    "  ex. def diff(x,y):\n",
    "          return x - y.\n",
    "  \n",
    "3. What statement creates a function?\n",
    "    def function_name(variable1,varible2,...):\n",
    "        return(expression).\n",
    "               \n",
    "4. What is the difference between a function and a function call?\n",
    "   we can create function but we need to call the function to execute it.\n",
    "  \n",
    "5. How many global scopes are there in a Python program? How many local scopes?\n",
    "   there is only global and local scopes in the python program but we can write as many as  local scopes in our python program.\n",
    "   \n",
    "6. What happens to variables in a local scope when the function call returns?\n",
    "   the function exectues the local variable.\n",
    "   \n",
    "7. What is the concept of a return value? Is it possible to have a return value in an expression?\n",
    "   the return variable, gave some value back to the caller. yes it is possible to have a return value in an expression.\n",
    "   \n",
    "8. If a function does not have a return statement, what is the return value of a call to that function?\n",
    "   we can use print statement as well. but if the funtion doesn't have return statment the value become None.\n",
    "   \n",
    "9. How do you make a function variable refer to the global variable?\n",
    "   it is defined in main body of the function, \n",
    "   can be accessed throughout the program,\n",
    "   accessible to all functions in the program.\n",
    "   \n",
    "10. What is the data type of None?\n",
    "    NoneType.\n",
    "    \n",
    "11. What does the sentence import areallyourpetsnamederic do?\n",
    "    \n",
    "12. If you had a bacon() feature in a spam module, what would you call it after importing spam?\n",
    "13. What can you do to save a programme from crashing if it encounters an error?\n",
    "   - by using try and except clause.\n",
    "   \n",
    "14. What is the purpose of the try clause? What is the purpose of the except clause?\n",
    "    if we have a statement but we don't know whether it can execute without error or not we can use try clause,\n",
    "    if the code we written in the try clause leads to error , then we can use except clause to execute the function without any error.\n",
    "    \n",
    "\n",
    "\"\"\""
   ]
  },
  {
   "cell_type": "code",
   "execution_count": 1,
   "id": "53d3b0be",
   "metadata": {},
   "outputs": [
    {
     "data": {
      "text/plain": [
       "NoneType"
      ]
     },
     "execution_count": 1,
     "metadata": {},
     "output_type": "execute_result"
    }
   ],
   "source": [
    "#10.\n",
    "type(None)"
   ]
  },
  {
   "cell_type": "code",
   "execution_count": 3,
   "id": "88825673",
   "metadata": {},
   "outputs": [
    {
     "ename": "ModuleNotFoundError",
     "evalue": "No module named 'areallyourpetsnamederic'",
     "output_type": "error",
     "traceback": [
      "\u001b[1;31m---------------------------------------------------------------------------\u001b[0m",
      "\u001b[1;31mModuleNotFoundError\u001b[0m                       Traceback (most recent call last)",
      "\u001b[1;32m<ipython-input-3-09d2dc62ec47>\u001b[0m in \u001b[0;36m<module>\u001b[1;34m\u001b[0m\n\u001b[0;32m      1\u001b[0m \u001b[1;31m#11.\u001b[0m\u001b[1;33m\u001b[0m\u001b[1;33m\u001b[0m\u001b[1;33m\u001b[0m\u001b[0m\n\u001b[1;32m----> 2\u001b[1;33m \u001b[1;32mimport\u001b[0m \u001b[0mareallyourpetsnamederic\u001b[0m\u001b[1;33m\u001b[0m\u001b[1;33m\u001b[0m\u001b[0m\n\u001b[0m",
      "\u001b[1;31mModuleNotFoundError\u001b[0m: No module named 'areallyourpetsnamederic'"
     ]
    }
   ],
   "source": [
    "#11.\n",
    "import areallyourpetsnamederic"
   ]
  },
  {
   "cell_type": "code",
   "execution_count": 9,
   "id": "f3266f22",
   "metadata": {},
   "outputs": [],
   "source": [
    "#12.\n",
    "def spam(bacon):\n",
    "    return(bacon)\n"
   ]
  },
  {
   "cell_type": "code",
   "execution_count": null,
   "id": "7baa71ac",
   "metadata": {},
   "outputs": [],
   "source": []
  }
 ],
 "metadata": {
  "kernelspec": {
   "display_name": "Python 3",
   "language": "python",
   "name": "python3"
  },
  "language_info": {
   "codemirror_mode": {
    "name": "ipython",
    "version": 3
   },
   "file_extension": ".py",
   "mimetype": "text/x-python",
   "name": "python",
   "nbconvert_exporter": "python",
   "pygments_lexer": "ipython3",
   "version": "3.8.8"
  }
 },
 "nbformat": 4,
 "nbformat_minor": 5
}
