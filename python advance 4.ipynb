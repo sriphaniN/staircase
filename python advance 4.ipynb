{
 "cells": [
  {
   "cell_type": "code",
   "execution_count": null,
   "id": "96fa0d1e",
   "metadata": {},
   "outputs": [],
   "source": [
    "\"\"\"Q1.\n",
    "Which two operator overloading methods can you use in your classes to support iteration?\n",
    "__iter__\n",
    "__next__\n",
    "\n",
    "\n",
    "Q2. In what contexts do the two operator overloading methods manage printing?\n",
    "prints type error, because we dont use two operators.\n",
    "\n",
    "\n",
    "\n",
    "Q3. In a class, how do you intercept slice operations?\n",
    "__getitem__() \n",
    "(or __setitem__()\n",
    "or __delitem__().\n",
    "\n",
    "\n",
    "Q4. In a class, how do you capture in-place addition?\n",
    "iadd(),\n",
    "iconcat()\n",
    "\n",
    "\n",
    "\n",
    "Q5. When is it appropriate to use operator overloading?\n",
    "to perform different operations using one operator.\n",
    "\"\"\""
   ]
  }
 ],
 "metadata": {
  "kernelspec": {
   "display_name": "Python 3",
   "language": "python",
   "name": "python3"
  },
  "language_info": {
   "codemirror_mode": {
    "name": "ipython",
    "version": 3
   },
   "file_extension": ".py",
   "mimetype": "text/x-python",
   "name": "python",
   "nbconvert_exporter": "python",
   "pygments_lexer": "ipython3",
   "version": "3.8.8"
  }
 },
 "nbformat": 4,
 "nbformat_minor": 5
}
