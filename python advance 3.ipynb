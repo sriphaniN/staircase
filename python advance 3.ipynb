{
 "cells": [
  {
   "cell_type": "code",
   "execution_count": null,
   "id": "456a9601",
   "metadata": {},
   "outputs": [],
   "source": [
    "\"\"\"\n",
    "1. What is the concept of an abstract superclass?\n",
    "Abstract classes are classes that you cannot create instances from.\n",
    "Use abc module to define abstract classes.\n",
    "abstract class to create a blueprint for other classes.\n",
    "\n",
    "\n",
    "\n",
    "2.. What happens when a class statement's top level contains a basic assignment statement?\n",
    "An assignment statement evaluates the expression list (remember that this can be a single expression or \n",
    "a comma-separated list, the latter yielding a tuple)\n",
    "and assigns the single resulting object to each of the target lists, from left to right.\n",
    "\n",
    "\n",
    "\n",
    "\n",
    "3. Why does a class need to manually call a superclass's __init__ method?\n",
    "base class may typically create member variable and initialize them to defaults.\n",
    "\n",
    "\n",
    "\n",
    "4. How can you augment, instead of completely replacing, an inherited method?\n",
    "Superclass.method(self,...)\n",
    "\n",
    "\n",
    "5. How is the local scope of a class different from that of a function?\n",
    "Functions do specific things, classes are specific things.\n",
    "\"\"\""
   ]
  }
 ],
 "metadata": {
  "kernelspec": {
   "display_name": "Python 3",
   "language": "python",
   "name": "python3"
  },
  "language_info": {
   "codemirror_mode": {
    "name": "ipython",
    "version": 3
   },
   "file_extension": ".py",
   "mimetype": "text/x-python",
   "name": "python",
   "nbconvert_exporter": "python",
   "pygments_lexer": "ipython3",
   "version": "3.8.8"
  }
 },
 "nbformat": 4,
 "nbformat_minor": 5
}
