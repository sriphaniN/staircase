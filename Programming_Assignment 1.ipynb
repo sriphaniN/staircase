{
 "cells": [
  {
   "cell_type": "code",
   "execution_count": null,
   "id": "515d8d6a",
   "metadata": {},
   "outputs": [],
   "source": [
    "\"\"\" \n",
    "1.Write a Python program to print \"Hello Python\"?\n",
    "2.Write a Python program to do arithmetical operations addition and division.?\n",
    "3.Write a Python program to find the area of a triangle?\n",
    "4.Write a Python program to swap two variables?\n",
    "5.Write a Python program to generate a random number?\n",
    "\"\"\""
   ]
  },
  {
   "cell_type": "code",
   "execution_count": 1,
   "id": "5a255487",
   "metadata": {},
   "outputs": [
    {
     "name": "stdout",
     "output_type": "stream",
     "text": [
      "Hello Python\n"
     ]
    }
   ],
   "source": [
    "#1.\n",
    "print(\"Hello Python\")"
   ]
  },
  {
   "cell_type": "code",
   "execution_count": 2,
   "id": "4562fa27",
   "metadata": {},
   "outputs": [],
   "source": [
    "#2.\n",
    "a = 10\n",
    "b = 5\n"
   ]
  },
  {
   "cell_type": "code",
   "execution_count": 3,
   "id": "0f1a049b",
   "metadata": {},
   "outputs": [
    {
     "data": {
      "text/plain": [
       "15"
      ]
     },
     "execution_count": 3,
     "metadata": {},
     "output_type": "execute_result"
    }
   ],
   "source": [
    "a + b"
   ]
  },
  {
   "cell_type": "code",
   "execution_count": 4,
   "id": "97cf45ef",
   "metadata": {},
   "outputs": [
    {
     "data": {
      "text/plain": [
       "2.0"
      ]
     },
     "execution_count": 4,
     "metadata": {},
     "output_type": "execute_result"
    }
   ],
   "source": [
    "a / b"
   ]
  },
  {
   "cell_type": "code",
   "execution_count": 5,
   "id": "1e106406",
   "metadata": {},
   "outputs": [
    {
     "data": {
      "text/plain": [
       "100.0"
      ]
     },
     "execution_count": 5,
     "metadata": {},
     "output_type": "execute_result"
    }
   ],
   "source": [
    "#3.\n",
    "b = 20\n",
    "h = 10\n",
    "area = 1/2 * b * h\n",
    "area "
   ]
  },
  {
   "cell_type": "code",
   "execution_count": 8,
   "id": "095fe394",
   "metadata": {},
   "outputs": [
    {
     "name": "stdout",
     "output_type": "stream",
     "text": [
      "20\n",
      "10\n"
     ]
    }
   ],
   "source": [
    "#4.\n",
    "a = 10\n",
    "b = 20\n",
    "a,b = b,a\n",
    " \n",
    "print(a)\n",
    "print(b)"
   ]
  },
  {
   "cell_type": "code",
   "execution_count": 10,
   "id": "4a1c6aaa",
   "metadata": {},
   "outputs": [
    {
     "name": "stdout",
     "output_type": "stream",
     "text": [
      "0\n"
     ]
    }
   ],
   "source": [
    "#5.\n",
    "import random\n",
    "print(random.randint(0,9))"
   ]
  },
  {
   "cell_type": "code",
   "execution_count": null,
   "id": "6fa82068",
   "metadata": {},
   "outputs": [],
   "source": []
  }
 ],
 "metadata": {
  "kernelspec": {
   "display_name": "Python 3",
   "language": "python",
   "name": "python3"
  },
  "language_info": {
   "codemirror_mode": {
    "name": "ipython",
    "version": 3
   },
   "file_extension": ".py",
   "mimetype": "text/x-python",
   "name": "python",
   "nbconvert_exporter": "python",
   "pygments_lexer": "ipython3",
   "version": "3.8.8"
  }
 },
 "nbformat": 4,
 "nbformat_minor": 5
}
