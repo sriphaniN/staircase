{
 "cells": [
  {
   "cell_type": "code",
   "execution_count": null,
   "id": "516c691a",
   "metadata": {},
   "outputs": [],
   "source": [
    "\"\"\" 1. Create a zoo.py file first. Define the hours() function, which prints the string 'Open 9-5 daily'. Then, use the interactive interpreter to import the zoo module and call its hours() function.\n",
    "2. In the interactive interpreter, import the zoo module as menagerie and call its hours() function.\n",
    "3. Using the interpreter, explicitly import and call the hours() function from zoo.\n",
    "4. Import the hours() function as info and call it.\n",
    "5. Create a plain dictionary with the key-value pairs 'a': 1, 'b': 2, and 'c': 3, and print it out.\n",
    "6.Make an OrderedDict called fancy from the same pairs listed in 5 and print it. Did it print in the same order as plain?\n",
    "7. Make a default dictionary called dict_of_lists and pass it the argument list. Make the list dict_of_lists['a'] and append the value 'something for a' to it in one assignment. Print dict_of_lists['a'].\n",
    "\"\"\""
   ]
  },
  {
   "cell_type": "code",
   "execution_count": 12,
   "id": "5bc4ce84",
   "metadata": {},
   "outputs": [
    {
     "data": {
      "text/plain": [
       "{'a': 1, 'b': 2, 'c': 3}"
      ]
     },
     "execution_count": 12,
     "metadata": {},
     "output_type": "execute_result"
    }
   ],
   "source": [
    "#5.\n",
    "plain = {'a': 1, 'b': 2, 'c': 3}\n",
    "plain"
   ]
  },
  {
   "cell_type": "code",
   "execution_count": 13,
   "id": "1f168e8e",
   "metadata": {},
   "outputs": [
    {
     "data": {
      "text/plain": [
       "OrderedDict([('a', 1), ('b', 2), ('c', 3)])"
      ]
     },
     "execution_count": 13,
     "metadata": {},
     "output_type": "execute_result"
    }
   ],
   "source": [
    "#6.\n",
    "#yes\n",
    "from collections import OrderedDict\n",
    "fancy = OrderedDict([('a', 1), ('b', 2), ('c', 3)])\n",
    "fancy"
   ]
  },
  {
   "cell_type": "code",
   "execution_count": 14,
   "id": "60f8ebd6",
   "metadata": {},
   "outputs": [
    {
     "data": {
      "text/plain": [
       "['something for a']"
      ]
     },
     "execution_count": 14,
     "metadata": {},
     "output_type": "execute_result"
    }
   ],
   "source": [
    "#7.\n",
    "from collections import defaultdict\n",
    "dict_of_lists = defaultdict(list)\n",
    "dict_of_lists['a'].append('something for a')\n",
    "dict_of_lists['a']"
   ]
  },
  {
   "cell_type": "code",
   "execution_count": null,
   "id": "34a20c8f",
   "metadata": {},
   "outputs": [],
   "source": []
  }
 ],
 "metadata": {
  "kernelspec": {
   "display_name": "Python 3",
   "language": "python",
   "name": "python3"
  },
  "language_info": {
   "codemirror_mode": {
    "name": "ipython",
    "version": 3
   },
   "file_extension": ".py",
   "mimetype": "text/x-python",
   "name": "python",
   "nbconvert_exporter": "python",
   "pygments_lexer": "ipython3",
   "version": "3.8.8"
  }
 },
 "nbformat": 4,
 "nbformat_minor": 5
}
