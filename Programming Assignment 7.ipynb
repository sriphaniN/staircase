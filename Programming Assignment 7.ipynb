{
 "cells": [
  {
   "cell_type": "code",
   "execution_count": null,
   "id": "0c227926",
   "metadata": {},
   "outputs": [],
   "source": [
    "\"\"\"\n",
    "1.\tWrite a Python Program to find sum of array?\n",
    "2.\tWrite a Python Program to find largest element in an array?\n",
    "3.\tWrite a Python Program for array rotation?\n",
    "4.\tWrite a Python Program to Split the array and add the first part to the end?\n",
    "5.\tWrite a Python Program to check if given array is Monotonic?\n",
    "\"\"\""
   ]
  },
  {
   "cell_type": "code",
   "execution_count": 1,
   "id": "201775d2",
   "metadata": {},
   "outputs": [
    {
     "name": "stdout",
     "output_type": "stream",
     "text": [
      "71\n"
     ]
    }
   ],
   "source": [
    "#1.\n",
    "array=[1,3,5,32,14,16] \n",
    "s=sum(array) \n",
    "print(s)"
   ]
  },
  {
   "cell_type": "code",
   "execution_count": 3,
   "id": "250bd79b",
   "metadata": {},
   "outputs": [
    {
     "data": {
      "text/plain": [
       "32"
      ]
     },
     "execution_count": 3,
     "metadata": {},
     "output_type": "execute_result"
    }
   ],
   "source": [
    "#2.\n",
    "b =max(array)\n",
    "b"
   ]
  },
  {
   "cell_type": "code",
   "execution_count": 15,
   "id": "9c285795",
   "metadata": {},
   "outputs": [
    {
     "name": "stdout",
     "output_type": "stream",
     "text": [
      "[14, 16, 1, 3, 5, 32]\n"
     ]
    }
   ],
   "source": [
    "#3.\n",
    "from collections import deque\n",
    "array1 = deque([1,3,5,32,14,16]) \n",
    "array1.rotate(2)\n",
    "print(list(array1))"
   ]
  },
  {
   "cell_type": "code",
   "execution_count": 9,
   "id": "f6c88664",
   "metadata": {},
   "outputs": [
    {
     "name": "stdout",
     "output_type": "stream",
     "text": [
      "[3, 5, 32, 14, 16, 1]\n"
     ]
    }
   ],
   "source": [
    "#4.\n",
    "position = 1\n",
    "new_arr = array[position:]+array[:position]\n",
    "print(new_arr)"
   ]
  },
  {
   "cell_type": "code",
   "execution_count": 17,
   "id": "994b92de",
   "metadata": {},
   "outputs": [
    {
     "name": "stdout",
     "output_type": "stream",
     "text": [
      "False\n"
     ]
    }
   ],
   "source": [
    "#5.\n",
    "def isMonotonic(array):\n",
    "  \n",
    "    return (all(array[i] <= array[i + 1] for i in range(len(array) - 1)) or\n",
    "            all(array[i] >= array[i + 1] for i in range(len(array) - 1)))\n",
    "print(isMonotonic(array))"
   ]
  },
  {
   "cell_type": "code",
   "execution_count": null,
   "id": "fc2d3a16",
   "metadata": {},
   "outputs": [],
   "source": []
  }
 ],
 "metadata": {
  "kernelspec": {
   "display_name": "Python 3",
   "language": "python",
   "name": "python3"
  },
  "language_info": {
   "codemirror_mode": {
    "name": "ipython",
    "version": 3
   },
   "file_extension": ".py",
   "mimetype": "text/x-python",
   "name": "python",
   "nbconvert_exporter": "python",
   "pygments_lexer": "ipython3",
   "version": "3.8.8"
  }
 },
 "nbformat": 4,
 "nbformat_minor": 5
}
