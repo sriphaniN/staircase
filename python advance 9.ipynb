{
 "cells": [
  {
   "cell_type": "code",
   "execution_count": null,
   "id": "c971fff0",
   "metadata": {},
   "outputs": [],
   "source": [
    "\"\"\"\n",
    "Q1. In Python 3.X, what are the names and functions of string object types?\n",
    "str.join(),\n",
    "str.split(),\n",
    "and str.replace().\n",
    "\n",
    "\n",
    "Q2. How do the string forms in Python 3.X vary in terms of operations?\n",
    "Using f-strings\n",
    "By format() method\n",
    "Using % operator\n",
    "\n",
    "\n",
    "Q3. In 3.X, how do you put non-ASCII Unicode characters in a string?\n",
    " adding a 'u' character prefix before the string literal\n",
    "\n",
    "\n",
    "Q4. In Python 3.X, what are the key differences between text-mode and binary-mode files?\n",
    "Binary file contains the data in the form of 0 and 1(series of binary values) \n",
    "and text files contains the data in the form of stream of characters.\n",
    "\n",
    "\n",
    "\n",
    "Q5. How can you interpret a Unicode text file containing text encoded in a different encoding than your platform's default?\n",
    ".encode() and .decode()\n",
    "\n",
    "\n",
    "Q6. What is the best way to make a Unicode text file in a particular encoding format?\n",
    "use normal open() and encode the unicode.\n",
    " f.write(a.encode(\"utf-8\"))\n",
    " f.close()\n",
    "\n",
    "\n",
    "Q7. What qualifies ASCII text as a form of Unicode text\n",
    "Unicode provides a unique way to define every character in every \n",
    "spoken language of the world by assigning it a unique number.\n",
    "ASCII is used for representing 128 English characters in the form of numbers, \n",
    "with each letter being assigned to a specific number in the range 0 to 127\n",
    "\n",
    "\n",
    "Q8. How much of an effect does the change in string types in Python 3.X have on your code?\n",
    "str.isalnum()\n",
    "str.isalpha()\n",
    "str.islower()\n",
    "str.isnumeric()\n",
    "str.isspace()\n",
    "str.istitle()\n",
    "str.isupper()\n",
    "len()\n",
    "using these any many more methods leads to easy to code in python.\n",
    "\n",
    "\n",
    "\"\"\""
   ]
  }
 ],
 "metadata": {
  "kernelspec": {
   "display_name": "Python 3",
   "language": "python",
   "name": "python3"
  },
  "language_info": {
   "codemirror_mode": {
    "name": "ipython",
    "version": 3
   },
   "file_extension": ".py",
   "mimetype": "text/x-python",
   "name": "python",
   "nbconvert_exporter": "python",
   "pygments_lexer": "ipython3",
   "version": "3.8.8"
  }
 },
 "nbformat": 4,
 "nbformat_minor": 5
}
