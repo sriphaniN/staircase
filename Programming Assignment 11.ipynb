{
 "cells": [
  {
   "cell_type": "code",
   "execution_count": null,
   "id": "9dc71bb5",
   "metadata": {},
   "outputs": [],
   "source": [
    "\"\"\"\n",
    "1.\tWrite a Python program to find words which are greater than given length k?\n",
    "2.\tWrite a Python program for removing i-th character from a string?\n",
    "3.\tWrite a Python program to split and join a string?\n",
    "4.\tWrite a Python to check if a given string is binary string or not?\n",
    "5.\tWrite a Python program to find uncommon words from two Strings?\n",
    "6.\tWrite a Python to find all duplicate characters in string?\n",
    "7.\tWrite a Python Program to check if a string contains any special character?\n",
    "\"\"\""
   ]
  },
  {
   "cell_type": "code",
   "execution_count": 1,
   "id": "9df35354",
   "metadata": {},
   "outputs": [
    {
     "name": "stdout",
     "output_type": "stream",
     "text": [
      "name\n",
      "sriphani\n"
     ]
    }
   ],
   "source": [
    "#1.\n",
    "x = \"my name is sriphani\"\n",
    "k = 2\n",
    "s = x.split(\" \")\n",
    "for i in s:\n",
    "    if len(i)>k:\n",
    "        print(i)"
   ]
  },
  {
   "cell_type": "code",
   "execution_count": 6,
   "id": "799cf12c",
   "metadata": {},
   "outputs": [
    {
     "data": {
      "text/plain": [
       "'sripani'"
      ]
     },
     "execution_count": 6,
     "metadata": {},
     "output_type": "execute_result"
    }
   ],
   "source": [
    "#2.\n",
    "x = \"sriphani\"\n",
    "i = 4\n",
    "y = x.replace(x[i], \"\", 1)\n",
    "y"
   ]
  },
  {
   "cell_type": "code",
   "execution_count": 10,
   "id": "d5d39285",
   "metadata": {},
   "outputs": [
    {
     "name": "stdout",
     "output_type": "stream",
     "text": [
      "['abc', 'bh', 'bdi', 'wih', 'ued']\n"
     ]
    }
   ],
   "source": [
    "#3.\n",
    "str = \"abc,bh,bdi,wih,ued\"\n",
    "print(str.split(','))\n"
   ]
  },
  {
   "cell_type": "code",
   "execution_count": 12,
   "id": "82b6cf35",
   "metadata": {},
   "outputs": [
    {
     "name": "stdout",
     "output_type": "stream",
     "text": [
      "ab*gc*hge*kh\n"
     ]
    }
   ],
   "source": [
    "#4.\n",
    "x = ['ab','gc','hge','kh']\n",
    "print('*'.join(x))"
   ]
  },
  {
   "cell_type": "code",
   "execution_count": 14,
   "id": "24de07bf",
   "metadata": {},
   "outputs": [
    {
     "data": {
      "text/plain": [
       "['learning']"
      ]
     },
     "execution_count": 14,
     "metadata": {},
     "output_type": "execute_result"
    }
   ],
   "source": [
    "#5.\n",
    "A = \" name is name\"\n",
    "B = \"name is learning\"\n",
    "x = [i for i in \"\".join(B).split() if i not in \"\".join(A).split()]\n",
    "x"
   ]
  },
  {
   "cell_type": "code",
   "execution_count": 18,
   "id": "8bd816f5",
   "metadata": {},
   "outputs": [
    {
     "name": "stdout",
     "output_type": "stream",
     "text": [
      "('s', 1)\n",
      "('r', 1)\n",
      "('i', 2)\n",
      "('p', 1)\n",
      "('h', 1)\n",
      "('a', 1)\n",
      "('n', 1)\n"
     ]
    }
   ],
   "source": [
    "#6.\n",
    "from collections import Counter\n",
    "x= \"sriphani\"\n",
    "for i in Counter(x).items():\n",
    "    print(i)"
   ]
  },
  {
   "cell_type": "code",
   "execution_count": 19,
   "id": "517dcb33",
   "metadata": {},
   "outputs": [
    {
     "name": "stdout",
     "output_type": "stream",
     "text": [
      "have special characters.\n"
     ]
    }
   ],
   "source": [
    "#7.\n",
    "import re\n",
    "x = re.compile('[@_!#$%^&*()<>?/\\|}{~:]')\n",
    "a = \"sriph@ni\"\n",
    "if(x.search(a) == None):\n",
    "    print(' does not have special characters.')\n",
    "else:\n",
    "    print('have special characters.')"
   ]
  },
  {
   "cell_type": "code",
   "execution_count": null,
   "id": "5cc39abd",
   "metadata": {},
   "outputs": [],
   "source": []
  }
 ],
 "metadata": {
  "kernelspec": {
   "display_name": "Python 3",
   "language": "python",
   "name": "python3"
  },
  "language_info": {
   "codemirror_mode": {
    "name": "ipython",
    "version": 3
   },
   "file_extension": ".py",
   "mimetype": "text/x-python",
   "name": "python",
   "nbconvert_exporter": "python",
   "pygments_lexer": "ipython3",
   "version": "3.8.8"
  }
 },
 "nbformat": 4,
 "nbformat_minor": 5
}
