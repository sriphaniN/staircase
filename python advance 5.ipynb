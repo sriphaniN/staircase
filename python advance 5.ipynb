{
 "cells": [
  {
   "cell_type": "code",
   "execution_count": null,
   "id": "521d5d4c",
   "metadata": {},
   "outputs": [],
   "source": [
    "\"\"\"Q1. What is the meaning of multiple inheritance?\n",
    "When a class is derived from more than one base class it is called multiple Inheritance.\n",
    "\n",
    "\n",
    "\n",
    "Q2. What is the concept of delegation?\n",
    "delegation refers to evaluating a member (property or method) of one object (the receiver)\n",
    "in the context of another original object (the sender).\n",
    "\n",
    "\n",
    "\n",
    "Q3. What is the concept of composition?\n",
    "Composition is a concept that models a has a relationship.\n",
    "It enables creating complex types by combining objects of other types.\n",
    "\n",
    "\n",
    "\n",
    "Q4. What are bound methods and how do we use them?\n",
    "A bound method is the one which is dependent on the instance of the class as the first argument. \n",
    "functions in the class are by default bound methods.\n",
    "ex.__self__\n",
    "\n",
    "\n",
    "\n",
    "Q5. What is the purpose of pseudoprivate attributes?\n",
    "this feature is mostly intended to avoid namespace collisions in instances, not to restrict access to names in general.\n",
    "\"\"\""
   ]
  }
 ],
 "metadata": {
  "kernelspec": {
   "display_name": "Python 3",
   "language": "python",
   "name": "python3"
  },
  "language_info": {
   "codemirror_mode": {
    "name": "ipython",
    "version": 3
   },
   "file_extension": ".py",
   "mimetype": "text/x-python",
   "name": "python",
   "nbconvert_exporter": "python",
   "pygments_lexer": "ipython3",
   "version": "3.8.8"
  }
 },
 "nbformat": 4,
 "nbformat_minor": 5
}
