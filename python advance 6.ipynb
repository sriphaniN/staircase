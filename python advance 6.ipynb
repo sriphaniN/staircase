{
 "cells": [
  {
   "cell_type": "code",
   "execution_count": null,
   "id": "073d6d48",
   "metadata": {},
   "outputs": [],
   "source": [
    "\"\"\"Q1. Describe three applications for exception processing.\n",
    "ZeroDivisionError: Occurs when a number is divided by zero.\n",
    "NameError: It occurs when a name is not found. It may be local or global.\n",
    "IndentationError: If incorrect indentation is given.\n",
    "\n",
    "\n",
    "\n",
    "Q2. What happens if you don't do something extra to treat an exception?\n",
    "the program terminates abruptly and the code past the line that caused the exception will not get executed.\n",
    "\n",
    "\n",
    "\n",
    "Q3. What are your options for recovering from an exception in your script?\n",
    "try:block,\n",
    "except: statement. \n",
    "\n",
    "\n",
    "\n",
    "Q4. Describe two methods for triggering exceptions in your script.\n",
    "ZeroDivisionError,NameError.\n",
    "\n",
    "\n",
    "Q5. Identify two methods for specifying actions to be executed at termination time, regardless of whether or not an exception exists.\n",
    "A Finally block is always executed when execution leaves any part of the Try...Catch statement.\n",
    "End Try- Terminates the Try...Catch...Finally structure.\n",
    "\"\"\""
   ]
  }
 ],
 "metadata": {
  "kernelspec": {
   "display_name": "Python 3",
   "language": "python",
   "name": "python3"
  },
  "language_info": {
   "codemirror_mode": {
    "name": "ipython",
    "version": 3
   },
   "file_extension": ".py",
   "mimetype": "text/x-python",
   "name": "python",
   "nbconvert_exporter": "python",
   "pygments_lexer": "ipython3",
   "version": "3.8.8"
  }
 },
 "nbformat": 4,
 "nbformat_minor": 5
}
